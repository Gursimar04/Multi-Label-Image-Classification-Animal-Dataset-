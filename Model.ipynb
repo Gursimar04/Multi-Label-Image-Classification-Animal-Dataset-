{
 "cells": [
  {
   "cell_type": "code",
   "execution_count": 2,
   "metadata": {},
   "outputs": [],
   "source": [
    "#libraries required to make model\n",
    "import tensorflow as tf   \n",
    "from tensorflow import keras\n",
    "import PIL"
   ]
  },
  {
   "cell_type": "code",
   "execution_count": 3,
   "metadata": {},
   "outputs": [
    {
     "name": "stdout",
     "output_type": "stream",
     "text": [
      "No. of GPUs Available:  1\n"
     ]
    }
   ],
   "source": [
    "physical_device=tf.config.experimental.list_physical_devices('GPU')\n",
    "print(\"No. of GPUs Available: \",len(physical_device))\n",
    "tf.config.experimental.set_memory_growth(physical_device[0],True)"
   ]
  },
  {
   "cell_type": "markdown",
   "metadata": {},
   "source": [
    "## Importing Libraries"
   ]
  },
  {
   "cell_type": "code",
   "execution_count": 6,
   "metadata": {},
   "outputs": [],
   "source": [
    "import numpy as np\n",
    "import sys\n",
    "import PIL\n",
    "#CNN\n",
    "from tensorflow.keras.models import Sequential\n",
    "from tensorflow.keras.layers import Activation, Dense,Dropout,MaxPooling2D,Conv2D,Flatten,BatchNormalization\n",
    "from tensorflow.keras.optimizers import Adam\n",
    "from tensorflow.keras.metrics import categorical_crossentropy\n",
    "from tensorflow.keras.applications.mobilenet_v2 import preprocess_input\n",
    "#save model\n",
    "from tensorflow.keras.models import load_model\n",
    "#image preprocessing\n",
    "from keras.preprocessing.image import ImageDataGenerator\n",
    "from keras.preprocessing import image\n",
    "#dividing data into train and validation\n",
    "import os.path\n",
    "import random as rnd\n",
    "import glob\n",
    "import shutil\n",
    "#face detection test\n",
    "import cv2\n"
   ]
  },
  {
   "cell_type": "code",
   "execution_count": 10,
   "metadata": {},
   "outputs": [],
   "source": [
    "import matplotlib.pyplot as plt               # for visualization\n",
    "%matplotlib inline\n",
    "from keras import regularizers"
   ]
  },
  {
   "cell_type": "markdown",
   "metadata": {},
   "source": [
    "### Task 3: Building a Multi-Layer Perceptron\n",
    "We have used Sequential API which helps us define the model in a step by step manner by adding multiple dense layer.\n",
    "The term kernel_initializer is a f statistical distribution that initializes weights for the model. We have used uniform distribution in this case. Softmax is being used for the final activation layer as it “returns a probability distribution over the target classes in a multiclass classification problem” \n",
    "###### Dropout is being used for optimization. It is a regularization technique in which we ommit units randomly to reduce the chances of overfitting of a model."
   ]
  },
  {
   "cell_type": "code",
   "execution_count": 252,
   "metadata": {},
   "outputs": [],
   "source": [
    "    classifier = Sequential()\n",
    "    #First Layer\n",
    "    classifier.add(Dense(units = 124, kernel_initializer = 'uniform', activation = 'relu', input_shape = (12288,), \n",
    "                         kernel_regularizer=regularizers.l2(0.01))) # L2 regularization\n",
    "    classifier.add(Dropout(0.5))\n",
    "    # Intermediate Layers\n",
    "    for itr in range(2):\n",
    "        classifier.add(Dense(units = 62, kernel_initializer = 'uniform', activation = 'relu', \n",
    "                             kernel_regularizer=regularizers.l2(0.01))) # L2 regularization\n",
    "        classifier.add(Dropout(0.5))   \n",
    "    # Last Layer\n",
    "    classifier.add(Dense(units = 5, kernel_initializer = 'uniform', activation = 'softmax'))\n",
    "   "
   ]
  },
  {
   "cell_type": "code",
   "execution_count": 254,
   "metadata": {},
   "outputs": [
    {
     "name": "stdout",
     "output_type": "stream",
     "text": [
      "Model: \"sequential_20\"\n",
      "_________________________________________________________________\n",
      "Layer (type)                 Output Shape              Param #   \n",
      "=================================================================\n",
      "dense_51 (Dense)             (None, 124)               1523836   \n",
      "_________________________________________________________________\n",
      "dropout_34 (Dropout)         (None, 124)               0         \n",
      "_________________________________________________________________\n",
      "dense_52 (Dense)             (None, 62)                7750      \n",
      "_________________________________________________________________\n",
      "dropout_35 (Dropout)         (None, 62)                0         \n",
      "_________________________________________________________________\n",
      "dense_53 (Dense)             (None, 62)                3906      \n",
      "_________________________________________________________________\n",
      "dropout_36 (Dropout)         (None, 62)                0         \n",
      "_________________________________________________________________\n",
      "dense_54 (Dense)             (None, 5)                 315       \n",
      "=================================================================\n",
      "Total params: 1,535,807\n",
      "Trainable params: 1,535,807\n",
      "Non-trainable params: 0\n",
      "_________________________________________________________________\n"
     ]
    }
   ],
   "source": [
    "classifier.summary()"
   ]
  },
  {
   "cell_type": "markdown",
   "metadata": {},
   "source": [
    "### Task 4: Loss Function and Optimizer \n",
    "We have used adam for optimizaion. It is bit different from the textbook, gradient descent. Gradient descent maintains a single learning rate for all weight updates but Adam allows us to add decay which slows down the learning rate. As we move closer to our optimized value the incresed decay helps as it causes less deviation in the weights.\n",
    "\n",
    "Loss function being used here is called binary crossentropy. It is generally used for classification as it uses probability distribution to give us a 1 or 0 value. \n",
    "###### I did not use categorical crossentropy as I am manually encoding the data int one-hot encoded labels."
   ]
  },
  {
   "cell_type": "code",
   "execution_count": 255,
   "metadata": {},
   "outputs": [],
   "source": [
    "op = Adam(lr=1e-3, decay=1e-3 / 30)"
   ]
  },
  {
   "cell_type": "code",
   "execution_count": 256,
   "metadata": {},
   "outputs": [],
   "source": [
    " classifier.compile(optimizer = op , loss = 'binary_crossentropy', metrics = ['accuracy'])"
   ]
  },
  {
   "cell_type": "markdown",
   "metadata": {},
   "source": [
    "### Task 1: Loading Data \n",
    "I have created an array of all our resultant labels and then iterated through it using a simple for loop. For each iteration I have acquired the folder containing the images of that dataset and converted the images into 64,64,3 and finally flattened them to receive a shape of (12288,). Flattening has been used as we are using ANN to compute results.\n",
    "\n",
    "For label encoding I define a list with 5 zero values. I acquire the index of the current category, convert that index into 1 and finally append it to out label array.\n",
    "###### At the end i have used shuffle from sklearn to shuffle the dataset for better training results"
   ]
  },
  {
   "cell_type": "code",
   "execution_count": 234,
   "metadata": {},
   "outputs": [],
   "source": [
    "class_names=['elefante', 'farfalla','mucca','pecora','scoiattolo']"
   ]
  },
  {
   "cell_type": "code",
   "execution_count": 235,
   "metadata": {},
   "outputs": [],
   "source": [
    "training_data = []\n",
    "label=[]\n",
    "for class_name in class_names: # iterate through classes\n",
    "    try:\n",
    "        files = glob.glob(\"D:/FinalDphi/animal_dataset_intermediate/train/\"+class_name+\"_train/*\") # get files in each folder(class)\n",
    "        for f in files:\n",
    "            img = cv2.imread(f) #read the image\n",
    "            img = cv2.resize(img,(64,64)).flatten() #resize the image\n",
    "            training_data.append(np.array(img)) #Append images and corresponding labels to data\n",
    "            la=[0,0,0,0,0]\n",
    "            la[class_names.index(class_name)]=1\n",
    "            label.append(la)\n",
    "    except:\n",
    "        pass\n",
    "from sklearn.utils import shuffle\n",
    "training_data, label= shuffle(training_data, label, random_state=0)"
   ]
  },
  {
   "cell_type": "code",
   "execution_count": 236,
   "metadata": {},
   "outputs": [
    {
     "data": {
      "text/plain": [
       "array([218, 182, 174, ...,  86, 133, 137], dtype=uint8)"
      ]
     },
     "execution_count": 236,
     "metadata": {},
     "output_type": "execute_result"
    }
   ],
   "source": [
    "training_data[0]"
   ]
  },
  {
   "cell_type": "markdown",
   "metadata": {},
   "source": [
    "#### Task 2: Pre-processing\n",
    "For pre-processing I have converted into a numpy array and changed the type to float32 to be able to run the value."
   ]
  },
  {
   "cell_type": "code",
   "execution_count": 237,
   "metadata": {},
   "outputs": [],
   "source": [
    "training_data = np.array(training_data) \n",
    "training_data = training_data.astype('float32')"
   ]
  },
  {
   "cell_type": "code",
   "execution_count": 238,
   "metadata": {},
   "outputs": [],
   "source": [
    "label = np.array(label) \n",
    "label = label.astype('float32')"
   ]
  },
  {
   "cell_type": "code",
   "execution_count": 239,
   "metadata": {},
   "outputs": [
    {
     "data": {
      "text/plain": [
       "array([[0., 0., 1., 0., 0.],\n",
       "       [0., 0., 0., 0., 1.],\n",
       "       [0., 0., 1., 0., 0.],\n",
       "       ...,\n",
       "       [0., 0., 1., 0., 0.],\n",
       "       [0., 0., 1., 0., 0.],\n",
       "       [0., 1., 0., 0., 0.]], dtype=float32)"
      ]
     },
     "execution_count": 239,
     "metadata": {},
     "output_type": "execute_result"
    }
   ],
   "source": [
    "label"
   ]
  },
  {
   "cell_type": "code",
   "execution_count": 240,
   "metadata": {},
   "outputs": [
    {
     "data": {
      "text/plain": [
       "(12288,)"
      ]
     },
     "execution_count": 240,
     "metadata": {},
     "output_type": "execute_result"
    }
   ],
   "source": [
    "training_data[0].shape"
   ]
  },
  {
   "cell_type": "markdown",
   "metadata": {},
   "source": [
    "### Task 5: Training the model\n",
    "I used very generic values to train the model as first I was concerned about comparing the results of ANN to CNN. Training Validation split 80:20."
   ]
  },
  {
   "cell_type": "code",
   "execution_count": 257,
   "metadata": {},
   "outputs": [
    {
     "name": "stdout",
     "output_type": "stream",
     "text": [
      "Epoch 1/30\n",
      "103/102 [==============================] - 1s 7ms/step - loss: 11.4409 - accuracy: 0.2154 - val_loss: 7.7839 - val_accuracy: 0.2311\n",
      "Epoch 2/30\n",
      "103/102 [==============================] - 1s 6ms/step - loss: 5.9533 - accuracy: 0.2299 - val_loss: 4.4820 - val_accuracy: 0.2311\n",
      "Epoch 3/30\n",
      "103/102 [==============================] - 1s 5ms/step - loss: 3.6243 - accuracy: 0.2305 - val_loss: 2.9318 - val_accuracy: 0.2311\n",
      "Epoch 4/30\n",
      "103/102 [==============================] - 1s 5ms/step - loss: 2.5450 - accuracy: 0.2302 - val_loss: 2.2197 - val_accuracy: 0.2311\n",
      "Epoch 5/30\n",
      "103/102 [==============================] - 1s 5ms/step - loss: 2.0387 - accuracy: 0.2314 - val_loss: 1.9052 - val_accuracy: 0.2146\n",
      "Epoch 6/30\n",
      "103/102 [==============================] - 1s 5ms/step - loss: 1.8257 - accuracy: 0.2312 - val_loss: 1.7607 - val_accuracy: 0.2311\n",
      "Epoch 7/30\n",
      "103/102 [==============================] - 1s 5ms/step - loss: 1.7334 - accuracy: 0.2315 - val_loss: 1.6949 - val_accuracy: 0.2311\n",
      "Epoch 8/30\n",
      "103/102 [==============================] - 1s 5ms/step - loss: 1.6883 - accuracy: 0.2311 - val_loss: 1.6595 - val_accuracy: 0.2311\n",
      "Epoch 9/30\n",
      "103/102 [==============================] - 1s 5ms/step - loss: 1.6555 - accuracy: 0.2299 - val_loss: 1.6474 - val_accuracy: 0.2311\n",
      "Epoch 10/30\n",
      "103/102 [==============================] - 1s 5ms/step - loss: 1.6546 - accuracy: 0.2300 - val_loss: 1.6466 - val_accuracy: 0.2311\n",
      "Epoch 11/30\n",
      "103/102 [==============================] - 1s 5ms/step - loss: 1.6389 - accuracy: 0.2309 - val_loss: 1.6283 - val_accuracy: 0.2311\n",
      "Epoch 12/30\n",
      "103/102 [==============================] - 1s 6ms/step - loss: 1.6300 - accuracy: 0.2303 - val_loss: 1.6385 - val_accuracy: 0.2311\n",
      "Epoch 13/30\n",
      "103/102 [==============================] - 1s 6ms/step - loss: 1.6400 - accuracy: 0.2311 - val_loss: 1.6320 - val_accuracy: 0.2311\n",
      "Epoch 14/30\n",
      "103/102 [==============================] - 1s 6ms/step - loss: 1.6329 - accuracy: 0.2314 - val_loss: 1.6243 - val_accuracy: 0.2311\n",
      "Epoch 15/30\n",
      "103/102 [==============================] - 1s 6ms/step - loss: 1.6244 - accuracy: 0.2322 - val_loss: 1.6296 - val_accuracy: 0.2311\n",
      "Epoch 16/30\n",
      "103/102 [==============================] - 1s 6ms/step - loss: 1.6239 - accuracy: 0.2318 - val_loss: 1.6180 - val_accuracy: 0.2311\n",
      "Epoch 17/30\n",
      "103/102 [==============================] - 1s 7ms/step - loss: 1.6280 - accuracy: 0.2312 - val_loss: 1.6308 - val_accuracy: 0.2311\n",
      "Epoch 18/30\n",
      "103/102 [==============================] - 1s 6ms/step - loss: 1.6177 - accuracy: 0.2317 - val_loss: 1.6121 - val_accuracy: 0.2311\n",
      "Epoch 19/30\n",
      "103/102 [==============================] - 1s 6ms/step - loss: 1.6217 - accuracy: 0.2320 - val_loss: 1.6178 - val_accuracy: 0.2311\n",
      "Epoch 20/30\n",
      "103/102 [==============================] - 1s 5ms/step - loss: 1.6159 - accuracy: 0.2335 - val_loss: 1.6098 - val_accuracy: 0.2311\n",
      "Epoch 21/30\n",
      "103/102 [==============================] - 1s 6ms/step - loss: 1.6171 - accuracy: 0.2326 - val_loss: 1.6181 - val_accuracy: 0.2311\n",
      "Epoch 22/30\n",
      "103/102 [==============================] - 1s 5ms/step - loss: 1.6155 - accuracy: 0.2311 - val_loss: 1.6135 - val_accuracy: 0.2311\n",
      "Epoch 23/30\n",
      "103/102 [==============================] - 1s 5ms/step - loss: 1.6121 - accuracy: 0.2320 - val_loss: 1.6097 - val_accuracy: 0.2311\n",
      "Epoch 24/30\n",
      "103/102 [==============================] - 1s 5ms/step - loss: 1.6107 - accuracy: 0.2325 - val_loss: 1.6087 - val_accuracy: 0.2311\n",
      "Epoch 25/30\n",
      "103/102 [==============================] - 1s 5ms/step - loss: 1.6091 - accuracy: 0.2320 - val_loss: 1.6087 - val_accuracy: 0.2311\n",
      "Epoch 26/30\n",
      "103/102 [==============================] - 1s 6ms/step - loss: 1.6086 - accuracy: 0.2322 - val_loss: 1.6073 - val_accuracy: 0.2311\n",
      "Epoch 27/30\n",
      "103/102 [==============================] - 1s 5ms/step - loss: 1.6077 - accuracy: 0.2312 - val_loss: 1.6071 - val_accuracy: 0.2311\n",
      "Epoch 28/30\n",
      "103/102 [==============================] - 1s 5ms/step - loss: 1.6083 - accuracy: 0.2351 - val_loss: 1.6134 - val_accuracy: 0.2311\n",
      "Epoch 29/30\n",
      "103/102 [==============================] - 1s 5ms/step - loss: 1.6082 - accuracy: 0.2318 - val_loss: 1.6065 - val_accuracy: 0.2311\n",
      "Epoch 30/30\n",
      "103/102 [==============================] - 1s 6ms/step - loss: 1.6064 - accuracy: 0.2320 - val_loss: 1.6054 - val_accuracy: 0.2311\n"
     ]
    }
   ],
   "source": [
    "cl=classifier.fit(x=training_data,y=label, validation_split=0.2, batch_size = 64, epochs = 30,steps_per_epoch=len(training_data)*0.8/64,verbose=1)"
   ]
  },
  {
   "cell_type": "markdown",
   "metadata": {},
   "source": [
    "### Task 6:Visualiztion"
   ]
  },
  {
   "cell_type": "code",
   "execution_count": 258,
   "metadata": {},
   "outputs": [
    {
     "data": {
      "text/plain": [
       "[<matplotlib.lines.Line2D at 0x2683a72e988>]"
      ]
     },
     "execution_count": 258,
     "metadata": {},
     "output_type": "execute_result"
    },
    {
     "data": {
      "image/png": "[encoded data removed]",
      "text/plain": [
       "<Figure size 432x288 with 1 Axes>"
      ]
     },
     "metadata": {
      "needs_background": "light"
     },
     "output_type": "display_data"
    }
   ],
   "source": [
    "import matplotlib.pyplot as plt\n",
    "%matplotlib inline\n",
    "plt.plot(cl.history['loss'])\n",
    "plt.plot(cl.history['val_loss'])"
   ]
  },
  {
   "cell_type": "code",
   "execution_count": 259,
   "metadata": {},
   "outputs": [
    {
     "name": "stdout",
     "output_type": "stream",
     "text": [
      "257/257 [==============================] - 1s 3ms/step - loss: 1.6057 - accuracy: 0.2319\n"
     ]
    },
    {
     "data": {
      "text/plain": [
       "[1.6057441234588623, 0.23194241523742676]"
      ]
     },
     "execution_count": 259,
     "metadata": {},
     "output_type": "execute_result"
    }
   ],
   "source": [
    "classifier.evaluate(x=training_data,y=label,batch_size=32)"
   ]
  },
  {
   "cell_type": "markdown",
   "metadata": {},
   "source": [
    "###### The glaringly conclusive result is that the model is not performing well."
   ]
  },
  {
   "cell_type": "markdown",
   "metadata": {},
   "source": [
    "## Task 7: Building a CNN\n",
    "We have used Sequential API which helps us define the model in a step by step manner. I tried increasing the input shape and it gave me a better result. Channel dimension is just to make sure that the RGB channels remain the last input in shape.\n",
    "\n",
    "Convolutional neural networks apply a filter to an input to create a feature map that summarizes the presence of detected features in the input. The Conv layer is the core building block of a Convolutional Network that does most of the computational heavy lifting. In simple terms, we are just taking a small window and picking up samples from the image.\n",
    "\n",
    "Every Convulution is layer is followed by a layer for relu activation. The rectified linear activation function or ReLU for short is a piecewise linear function that will output the input directly if it is positive, otherwise, it will output zero. ReLU is important because it does not saturate; the gradient is always high (equal to 1) if the neuron activates. As long as it is not a dead neuron, successive updates are fairly effective. ReLU is also very quick to evaluate.\n",
    "\n",
    "Batch normalization is a method used to make artificial neural networks faster and more stable through normalization of the input layer by re-centering and re-scaling. Basically this is used for accelerating the whole process.\n",
    "\n",
    "The pooling operation involves sliding a two-dimensional filter over each channel of feature map and summarising the features lying within the region covered by the filter. It reducea the dimensions of the feature maps, thereby reducing the trainable parameters. As  further operations are performed on summarised features instead of precisely positioned features generated by the convolution layer, the model becomes more robust.\n",
    "###### The dense layer is given the value of 5 as we have 5 labels in our dataset\n",
    "###### Dropout is being used for optimization. It is a regularization technique in which we ommit units randomly to reduce the chances of overfitting of a model.\n",
    "Softmax is being used for the final activation layer as it “returns a probability distribution over the target classes in a multiclass classification problem” \n",
    "\n",
    "###### Note: The steps have been repeated in order to increase the model accuracy ( Later On)"
   ]
  },
  {
   "cell_type": "code",
   "execution_count": 35,
   "metadata": {},
   "outputs": [],
   "source": [
    "model = Sequential()\n",
    "inputShape = (96, 96, 3)\n",
    "chanDim = -1"
   ]
  },
  {
   "cell_type": "code",
   "execution_count": 36,
   "metadata": {},
   "outputs": [],
   "source": [
    "model.add(Conv2D(32, (3, 3), padding=\"same\",input_shape=inputShape))\n",
    "model.add(Activation(\"relu\"))\n",
    "model.add(BatchNormalization(axis=chanDim))\n",
    "model.add(MaxPooling2D(pool_size=(3, 3)))\n",
    "model.add(Dropout(0.25))"
   ]
  },
  {
   "cell_type": "code",
   "execution_count": 37,
   "metadata": {},
   "outputs": [],
   "source": [
    "model.add(Conv2D(64, (3, 3), padding=\"same\"))\n",
    "model.add(Activation(\"relu\"))\n",
    "model.add(BatchNormalization(axis=chanDim))\n",
    "model.add(Conv2D(64, (3, 3), padding=\"same\"))\n",
    "model.add(Activation(\"relu\"))\n",
    "model.add(BatchNormalization(axis=chanDim))\n",
    "model.add(MaxPooling2D(pool_size=(2, 2)))\n",
    "model.add(Dropout(0.25))\n",
    "model.add(Conv2D(128, (3, 3), padding=\"same\"))\n",
    "model.add(Activation(\"relu\"))\n",
    "model.add(BatchNormalization(axis=chanDim))\n",
    "model.add(Conv2D(128, (3, 3), padding=\"same\"))\n",
    "model.add(Activation(\"relu\"))\n",
    "model.add(BatchNormalization(axis=chanDim))\n",
    "model.add(MaxPooling2D(pool_size=(2, 2)))\n",
    "model.add(Dropout(0.25))"
   ]
  },
  {
   "cell_type": "code",
   "execution_count": 38,
   "metadata": {},
   "outputs": [],
   "source": [
    "model.add(Flatten())\n",
    "model.add(Dense(1024))\n",
    "model.add(Activation(\"relu\"))\n",
    "model.add(BatchNormalization())\n",
    "model.add(Dropout(0.5))\n",
    "model.add(Dense(5))\n",
    "model.add(Activation('softmax'))"
   ]
  },
  {
   "cell_type": "code",
   "execution_count": 39,
   "metadata": {},
   "outputs": [
    {
     "name": "stdout",
     "output_type": "stream",
     "text": [
      "Model: \"sequential_3\"\n",
      "_________________________________________________________________\n",
      "Layer (type)                 Output Shape              Param #   \n",
      "=================================================================\n",
      "conv2d_7 (Conv2D)            (None, 96, 96, 32)        896       \n",
      "_________________________________________________________________\n",
      "activation_11 (Activation)   (None, 96, 96, 32)        0         \n",
      "_________________________________________________________________\n",
      "batch_normalization_9 (Batch (None, 96, 96, 32)        128       \n",
      "_________________________________________________________________\n",
      "max_pooling2d_3 (MaxPooling2 (None, 32, 32, 32)        0         \n",
      "_________________________________________________________________\n",
      "dropout_6 (Dropout)          (None, 32, 32, 32)        0         \n",
      "_________________________________________________________________\n",
      "conv2d_8 (Conv2D)            (None, 32, 32, 64)        18496     \n",
      "_________________________________________________________________\n",
      "activation_12 (Activation)   (None, 32, 32, 64)        0         \n",
      "_________________________________________________________________\n",
      "batch_normalization_10 (Batc (None, 32, 32, 64)        256       \n",
      "_________________________________________________________________\n",
      "conv2d_9 (Conv2D)            (None, 32, 32, 64)        36928     \n",
      "_________________________________________________________________\n",
      "activation_13 (Activation)   (None, 32, 32, 64)        0         \n",
      "_________________________________________________________________\n",
      "batch_normalization_11 (Batc (None, 32, 32, 64)        256       \n",
      "_________________________________________________________________\n",
      "max_pooling2d_4 (MaxPooling2 (None, 16, 16, 64)        0         \n",
      "_________________________________________________________________\n",
      "dropout_7 (Dropout)          (None, 16, 16, 64)        0         \n",
      "_________________________________________________________________\n",
      "conv2d_10 (Conv2D)           (None, 16, 16, 128)       73856     \n",
      "_________________________________________________________________\n",
      "activation_14 (Activation)   (None, 16, 16, 128)       0         \n",
      "_________________________________________________________________\n",
      "batch_normalization_12 (Batc (None, 16, 16, 128)       512       \n",
      "_________________________________________________________________\n",
      "conv2d_11 (Conv2D)           (None, 16, 16, 128)       147584    \n",
      "_________________________________________________________________\n",
      "activation_15 (Activation)   (None, 16, 16, 128)       0         \n",
      "_________________________________________________________________\n",
      "batch_normalization_13 (Batc (None, 16, 16, 128)       512       \n",
      "_________________________________________________________________\n",
      "max_pooling2d_5 (MaxPooling2 (None, 8, 8, 128)         0         \n",
      "_________________________________________________________________\n",
      "dropout_8 (Dropout)          (None, 8, 8, 128)         0         \n",
      "_________________________________________________________________\n",
      "flatten_3 (Flatten)          (None, 8192)              0         \n",
      "_________________________________________________________________\n",
      "dense_5 (Dense)              (None, 1024)              8389632   \n",
      "_________________________________________________________________\n",
      "activation_16 (Activation)   (None, 1024)              0         \n",
      "_________________________________________________________________\n",
      "batch_normalization_14 (Batc (None, 1024)              4096      \n",
      "_________________________________________________________________\n",
      "dropout_9 (Dropout)          (None, 1024)              0         \n",
      "_________________________________________________________________\n",
      "dense_6 (Dense)              (None, 5)                 5125      \n",
      "_________________________________________________________________\n",
      "activation_17 (Activation)   (None, 5)                 0         \n",
      "=================================================================\n",
      "Total params: 8,678,277\n",
      "Trainable params: 8,675,397\n",
      "Non-trainable params: 2,880\n",
      "_________________________________________________________________\n"
     ]
    }
   ],
   "source": [
    "model.summary()"
   ]
  },
  {
   "cell_type": "markdown",
   "metadata": {},
   "source": [
    "from PIL import Image\n",
    "from PIL import ImageFilter\n",
    "from os import listdir\n",
    "import glob\n",
    "import random\n",
    "j=0\n",
    "for i in random.sample(glob.glob('D:/FinalDphi/animal_dataset_intermediate/train/*'),1152):\n",
    "    imageObject = Image.open(i);\n",
    "    imageObject=imageObject.convert('RGB')\n",
    "    g=imageObject.transpose(Image.FLIP_LEFT_RIGHT)\n",
    "    g.save('D:/FinalDphi/animal_dataset_intermediate/train/'+str(j)+'.jpg', 'JPEG')\n",
    "    j+=1"
   ]
  },
  {
   "cell_type": "markdown",
   "metadata": {},
   "source": [
    "### Task 1: Loading Data  (2.0) \n",
    "Image Data Generator was used to load the data as it automatically creates the label (by defining classes) form the batches of perticular batch sizes, and automatically converts the images into the target size.\n",
    "Then to create a validation dataset I used random and glob library to select 10% images randomly from each category and move it to a new folder called Validation with similar label folders.\n",
    "Valid batches was also loaded using Image Data genertor."
   ]
  },
  {
   "cell_type": "code",
   "execution_count": 20,
   "metadata": {},
   "outputs": [],
   "source": [
    "train_path = 'D:/FinalDphi/animal_dataset_intermediate/train/'\n",
    "# validate_path='/Dataset COVID-19 Augmented/validate'\n",
    "# test_path = '/Dataset COVID-19 Augmented/test'"
   ]
  },
  {
   "cell_type": "code",
   "execution_count": 31,
   "metadata": {},
   "outputs": [
    {
     "name": "stdout",
     "output_type": "stream",
     "text": [
      "Found 7377 images belonging to 5 classes.\n"
     ]
    }
   ],
   "source": [
    "train_batches = ImageDataGenerator(preprocessing_function=tf.keras.applications.vgg16.preprocess_input) \\\n",
    "    .flow_from_directory(directory=train_path, target_size=(96,96), classes=['elefante_train', 'farfalla_train','mucca_train','pecora_train','scoiattolo_train'], batch_size=32)"
   ]
  },
  {
   "cell_type": "code",
   "execution_count": 26,
   "metadata": {},
   "outputs": [],
   "source": [
    "for i in rnd.sample(glob.glob('D:/FinalDphi/animal_dataset_intermediate/train/elefante_train/*'),130):\n",
    "    shutil.move(i,'D:/FinalDphi/animal_dataset_intermediate/validate/elefante_train/')"
   ]
  },
  {
   "cell_type": "code",
   "execution_count": 27,
   "metadata": {},
   "outputs": [],
   "source": [
    "for i in rnd.sample(glob.glob('D:/FinalDphi/animal_dataset_intermediate/train/farfalla_train/*'),190):\n",
    "        shutil.move(i,'D:/FinalDphi/animal_dataset_intermediate/validate/farfalla_train/')"
   ]
  },
  {
   "cell_type": "code",
   "execution_count": 28,
   "metadata": {},
   "outputs": [],
   "source": [
    "for i in rnd.sample(glob.glob('D:/FinalDphi/animal_dataset_intermediate/train/mucca_train/*'),168):\n",
    "        shutil.move(i,'D:/FinalDphi/animal_dataset_intermediate/validate/mucca_train/')"
   ]
  },
  {
   "cell_type": "code",
   "execution_count": 29,
   "metadata": {},
   "outputs": [],
   "source": [
    "for i in rnd.sample(glob.glob('D:/FinalDphi/animal_dataset_intermediate/train/pecora_train/*'),164):\n",
    "        shutil.move(i,'D:/FinalDphi/animal_dataset_intermediate/validate/pecora_train/')"
   ]
  },
  {
   "cell_type": "code",
   "execution_count": 30,
   "metadata": {},
   "outputs": [],
   "source": [
    "for i in rnd.sample(glob.glob('D:/FinalDphi/animal_dataset_intermediate/train/scoiattolo_train/*'),167):\n",
    "        shutil.move(i,'D:/FinalDphi/animal_dataset_intermediate/validate/scoiattolo_train/')"
   ]
  },
  {
   "cell_type": "code",
   "execution_count": 32,
   "metadata": {},
   "outputs": [],
   "source": [
    "validate_path='D:/FinalDphi/animal_dataset_intermediate/validate/'"
   ]
  },
  {
   "cell_type": "code",
   "execution_count": 33,
   "metadata": {},
   "outputs": [
    {
     "name": "stdout",
     "output_type": "stream",
     "text": [
      "Found 819 images belonging to 5 classes.\n"
     ]
    }
   ],
   "source": [
    "valid_batches = ImageDataGenerator(preprocessing_function=tf.keras.applications.vgg16.preprocess_input) \\\n",
    "    .flow_from_directory(directory=validate_path, target_size=(96,96), classes=['elefante_train', 'farfalla_train','mucca_train','pecora_train','scoiattolo_train'], batch_size=32)"
   ]
  },
  {
   "cell_type": "markdown",
   "metadata": {},
   "source": [
    "### Task 4: Loss Function and Optimizer\n",
    "We have used adam for optimizaion once again so the explanation remains the same. \n",
    "\n",
    "Loss function being used here is called categorical crossentropy as it gave better results.\n",
    "Input_dimensions are based on model summarry and batch size remains the same( Used while loading the images).\n",
    "I trained it to 30 epochs just for comparison with ANN. The learning rate remained the same. I decreased the decay by a bit to reach the optimum value a bit quicker."
   ]
  },
  {
   "cell_type": "code",
   "execution_count": 22,
   "metadata": {},
   "outputs": [],
   "source": [
    "BS = 32\n",
    "IMAGE_DIMS = (96, 96, 3)\n",
    "INIT_LR = 1e-3\n",
    "EPOCHS=30"
   ]
  },
  {
   "cell_type": "code",
   "execution_count": 23,
   "metadata": {},
   "outputs": [],
   "source": [
    "EPOCHS=30\n",
    "opt = Adam(lr=1e-3, decay=INIT_LR / EPOCHS)"
   ]
  },
  {
   "cell_type": "markdown",
   "metadata": {},
   "source": [
    "### Task 5: Training the model\n",
    "I used very generic values to train the model as first I was concerned about comparing the results of ANN to CNN. Training Validation split 90:10."
   ]
  },
  {
   "cell_type": "code",
   "execution_count": 40,
   "metadata": {},
   "outputs": [
    {
     "name": "stdout",
     "output_type": "stream",
     "text": [
      "Epoch 1/30\n",
      "231/231 [==============================] - 21s 91ms/step - loss: 1.3330 - accuracy: 0.5539 - val_loss: 1.2722 - val_accuracy: 0.5568\n",
      "Epoch 2/30\n",
      "231/231 [==============================] - 25s 109ms/step - loss: 0.9631 - accuracy: 0.6485 - val_loss: 1.1248 - val_accuracy: 0.6129\n",
      "Epoch 3/30\n",
      "231/231 [==============================] - 29s 125ms/step - loss: 0.8166 - accuracy: 0.6993 - val_loss: 1.1108 - val_accuracy: 0.5873\n",
      "Epoch 4/30\n",
      "231/231 [==============================] - 24s 106ms/step - loss: 0.7169 - accuracy: 0.7346 - val_loss: 0.7925 - val_accuracy: 0.7387\n",
      "Epoch 5/30\n",
      "231/231 [==============================] - 25s 106ms/step - loss: 0.6464 - accuracy: 0.7647 - val_loss: 0.7382 - val_accuracy: 0.7570\n",
      "Epoch 6/30\n",
      "231/231 [==============================] - 24s 106ms/step - loss: 0.5817 - accuracy: 0.7885 - val_loss: 0.8016 - val_accuracy: 0.7216\n",
      "Epoch 7/30\n",
      "231/231 [==============================] - 24s 105ms/step - loss: 0.6090 - accuracy: 0.7742 - val_loss: 0.9151 - val_accuracy: 0.7228\n",
      "Epoch 8/30\n",
      "231/231 [==============================] - 24s 106ms/step - loss: 0.5031 - accuracy: 0.8137 - val_loss: 0.7479 - val_accuracy: 0.7375\n",
      "Epoch 9/30\n",
      "231/231 [==============================] - 28s 121ms/step - loss: 0.4687 - accuracy: 0.8281 - val_loss: 0.6356 - val_accuracy: 0.7753\n",
      "Epoch 10/30\n",
      "231/231 [==============================] - 33s 141ms/step - loss: 0.4764 - accuracy: 0.8254 - val_loss: 0.7132 - val_accuracy: 0.7619\n",
      "Epoch 11/30\n",
      "231/231 [==============================] - 28s 122ms/step - loss: 0.3918 - accuracy: 0.8525 - val_loss: 0.8036 - val_accuracy: 0.7302\n",
      "Epoch 12/30\n",
      "231/231 [==============================] - 24s 105ms/step - loss: 0.3745 - accuracy: 0.8639 - val_loss: 0.9424 - val_accuracy: 0.7289\n",
      "Epoch 13/30\n",
      "231/231 [==============================] - 30s 129ms/step - loss: 0.3118 - accuracy: 0.8818 - val_loss: 0.6326 - val_accuracy: 0.7985\n",
      "Epoch 14/30\n",
      "231/231 [==============================] - 24s 106ms/step - loss: 0.2717 - accuracy: 0.8993 - val_loss: 0.7373 - val_accuracy: 0.7839\n",
      "Epoch 15/30\n",
      "231/231 [==============================] - 35s 150ms/step - loss: 0.2529 - accuracy: 0.9063 - val_loss: 0.7765 - val_accuracy: 0.7753\n",
      "Epoch 16/30\n",
      "231/231 [==============================] - 24s 106ms/step - loss: 0.2364 - accuracy: 0.9143 - val_loss: 0.5735 - val_accuracy: 0.8230\n",
      "Epoch 17/30\n",
      "231/231 [==============================] - 24s 106ms/step - loss: 0.1971 - accuracy: 0.9284 - val_loss: 0.6083 - val_accuracy: 0.8266\n",
      "Epoch 18/30\n",
      "231/231 [==============================] - 32s 140ms/step - loss: 0.1974 - accuracy: 0.9287 - val_loss: 0.7930 - val_accuracy: 0.7766\n",
      "Epoch 19/30\n",
      "231/231 [==============================] - 25s 107ms/step - loss: 0.1989 - accuracy: 0.9282 - val_loss: 0.7572 - val_accuracy: 0.7778\n",
      "Epoch 20/30\n",
      "231/231 [==============================] - 26s 114ms/step - loss: 0.1669 - accuracy: 0.9381 - val_loss: 0.7630 - val_accuracy: 0.7985\n",
      "Epoch 21/30\n",
      "231/231 [==============================] - 24s 105ms/step - loss: 0.1540 - accuracy: 0.9429 - val_loss: 0.7390 - val_accuracy: 0.7924\n",
      "Epoch 22/30\n",
      "231/231 [==============================] - 25s 108ms/step - loss: 0.1465 - accuracy: 0.9465 - val_loss: 0.7881 - val_accuracy: 0.8156\n",
      "Epoch 23/30\n",
      "231/231 [==============================] - 17s 72ms/step - loss: 0.1408 - accuracy: 0.9505 - val_loss: 0.9984 - val_accuracy: 0.7558\n",
      "Epoch 24/30\n",
      "231/231 [==============================] - 12s 51ms/step - loss: 0.1809 - accuracy: 0.9356 - val_loss: 0.8668 - val_accuracy: 0.7790\n",
      "Epoch 25/30\n",
      "231/231 [==============================] - 12s 51ms/step - loss: 0.2781 - accuracy: 0.9055 - val_loss: 0.8198 - val_accuracy: 0.8144\n",
      "Epoch 26/30\n",
      "231/231 [==============================] - 12s 50ms/step - loss: 0.1696 - accuracy: 0.9362 - val_loss: 0.8084 - val_accuracy: 0.7888\n",
      "Epoch 27/30\n",
      "231/231 [==============================] - 12s 51ms/step - loss: 0.1426 - accuracy: 0.9482 - val_loss: 0.7281 - val_accuracy: 0.8046\n",
      "Epoch 28/30\n",
      "231/231 [==============================] - 12s 50ms/step - loss: 0.0934 - accuracy: 0.9672 - val_loss: 0.6117 - val_accuracy: 0.8400\n",
      "Epoch 29/30\n",
      "231/231 [==============================] - 12s 50ms/step - loss: 0.0746 - accuracy: 0.9729 - val_loss: 0.6871 - val_accuracy: 0.8303\n",
      "Epoch 30/30\n",
      "231/231 [==============================] - 12s 50ms/step - loss: 0.0844 - accuracy: 0.9687 - val_loss: 0.7494 - val_accuracy: 0.8168\n"
     ]
    }
   ],
   "source": [
    "model.compile(loss=\"categorical_crossentropy\", optimizer=opt,metrics=[\"accuracy\"])\n",
    "H = model.fit(x=train_batches, batch_size=32,validation_data=valid_batches,steps_per_epoch=len(train_batches), epochs= 30, verbose=1)"
   ]
  },
  {
   "cell_type": "code",
   "execution_count": null,
   "metadata": {},
   "outputs": [],
   "source": [
    "# H = model.fit(x=train_batches, batch_size=32,validation_data=valid_batches,steps_per_epoch=len(train_batches), epochs= 30, verbose=1)"
   ]
  },
  {
   "cell_type": "markdown",
   "metadata": {},
   "source": [
    "### Task 6:Visualiztion (2.0)"
   ]
  },
  {
   "cell_type": "code",
   "execution_count": 103,
   "metadata": {},
   "outputs": [
    {
     "data": {
      "text/plain": [
       "[<matplotlib.lines.Line2D at 0x26f7e29f988>]"
      ]
     },
     "execution_count": 103,
     "metadata": {},
     "output_type": "execute_result"
    },
    {
     "data": {
      "image/png": "[encoded data removed]",
      "text/plain": [
       "<Figure size 432x288 with 1 Axes>"
      ]
     },
     "metadata": {
      "needs_background": "light"
     },
     "output_type": "display_data"
    }
   ],
   "source": [
    "import matplotlib.pyplot as plt\n",
    "%matplotlib inline\n",
    "plt.plot(H.history['loss'])\n",
    "plt.plot(H.history['val_loss'])"
   ]
  },
  {
   "cell_type": "code",
   "execution_count": 41,
   "metadata": {},
   "outputs": [],
   "source": [
    "model.save(\"D:/FinalDphi/mod.h5\")"
   ]
  },
  {
   "cell_type": "code",
   "execution_count": 108,
   "metadata": {},
   "outputs": [
    {
     "name": "stdout",
     "output_type": "stream",
     "text": [
      "231/231 [==============================] - 10s 43ms/step - loss: 0.0062 - accuracy: 0.9992\n"
     ]
    },
    {
     "data": {
      "text/plain": [
       "[0.006182956974953413, 0.999186635017395]"
      ]
     },
     "execution_count": 108,
     "metadata": {},
     "output_type": "execute_result"
    }
   ],
   "source": [
    "model.evaluate(train_batches,batch_size=32)"
   ]
  },
  {
   "cell_type": "markdown",
   "metadata": {},
   "source": [
    "### Task 9: Prediction\n",
    "The test_data was re-ordered into the csv format by using PIL library. Now our test_data lies in a new target called test_new. I used data generator to load the images in batches. \n",
    "##### Once I received the predictions I used argmax(because we are using softmax) to convert it into integer values)"
   ]
  },
  {
   "cell_type": "code",
   "execution_count": 45,
   "metadata": {},
   "outputs": [],
   "source": [
    "import pandas as pd"
   ]
  },
  {
   "cell_type": "code",
   "execution_count": 46,
   "metadata": {},
   "outputs": [],
   "source": [
    "test=pd.read_csv('D:/FinalDphi/animal_dataset_intermediate/Testing_set_animals.csv')"
   ]
  },
  {
   "cell_type": "code",
   "execution_count": 47,
   "metadata": {},
   "outputs": [
    {
     "data": {
      "text/html": [
       "<div>\n",
       "<style scoped>\n",
       "    .dataframe tbody tr th:only-of-type {\n",
       "        vertical-align: middle;\n",
       "    }\n",
       "\n",
       "    .dataframe tbody tr th {\n",
       "        vertical-align: top;\n",
       "    }\n",
       "\n",
       "    .dataframe thead th {\n",
       "        text-align: right;\n",
       "    }\n",
       "</style>\n",
       "<table border=\"1\" class=\"dataframe\">\n",
       "  <thead>\n",
       "    <tr style=\"text-align: right;\">\n",
       "      <th></th>\n",
       "      <th>filename</th>\n",
       "      <th>target</th>\n",
       "    </tr>\n",
       "  </thead>\n",
       "  <tbody>\n",
       "    <tr>\n",
       "      <th>0</th>\n",
       "      <td>e030b20928e90021d85a5854ee454296eb70e3c818b413...</td>\n",
       "      <td>NaN</td>\n",
       "    </tr>\n",
       "    <tr>\n",
       "      <th>1</th>\n",
       "      <td>e030b20929e90021d85a5854ee454296eb70e3c818b413...</td>\n",
       "      <td>NaN</td>\n",
       "    </tr>\n",
       "    <tr>\n",
       "      <th>2</th>\n",
       "      <td>e030b2092be90021d85a5854ee454296eb70e3c818b413...</td>\n",
       "      <td>NaN</td>\n",
       "    </tr>\n",
       "    <tr>\n",
       "      <th>3</th>\n",
       "      <td>e030b2092ce90021d85a5854ee454296eb70e3c818b413...</td>\n",
       "      <td>NaN</td>\n",
       "    </tr>\n",
       "    <tr>\n",
       "      <th>4</th>\n",
       "      <td>e030b2092de90021d85a5854ee454296eb70e3c818b413...</td>\n",
       "      <td>NaN</td>\n",
       "    </tr>\n",
       "  </tbody>\n",
       "</table>\n",
       "</div>"
      ],
      "text/plain": [
       "                                            filename  target\n",
       "0  e030b20928e90021d85a5854ee454296eb70e3c818b413...     NaN\n",
       "1  e030b20929e90021d85a5854ee454296eb70e3c818b413...     NaN\n",
       "2  e030b2092be90021d85a5854ee454296eb70e3c818b413...     NaN\n",
       "3  e030b2092ce90021d85a5854ee454296eb70e3c818b413...     NaN\n",
       "4  e030b2092de90021d85a5854ee454296eb70e3c818b413...     NaN"
      ]
     },
     "execution_count": 47,
     "metadata": {},
     "output_type": "execute_result"
    }
   ],
   "source": [
    "test.head()"
   ]
  },
  {
   "cell_type": "code",
   "execution_count": null,
   "metadata": {},
   "outputs": [],
   "source": [
    "import PU"
   ]
  },
  {
   "cell_type": "code",
   "execution_count": 72,
   "metadata": {},
   "outputs": [],
   "source": [
    "from PIL import Image\n",
    "from PIL import ImageFilter\n",
    "for i in range(len(test)):\n",
    "    imgo = Image.open('D:/FinalDphi/animal_dataset_intermediate/test/'+str(test['filename'][i]))\n",
    "    imgo=imgo.convert('RGB')\n",
    "    imgo.save('D:/FinalDphi/animal_dataset_intermediate/new_test/'+str(i)+'.jpg', 'JPEG')"
   ]
  },
  {
   "cell_type": "code",
   "execution_count": 73,
   "metadata": {},
   "outputs": [],
   "source": [
    "test_datagen = tf.keras.preprocessing.image.ImageDataGenerator()"
   ]
  },
  {
   "cell_type": "code",
   "execution_count": 82,
   "metadata": {},
   "outputs": [
    {
     "name": "stdout",
     "output_type": "stream",
     "text": [
      "Found 910 images belonging to 1 classes.\n"
     ]
    }
   ],
   "source": [
    "test_generator = test_datagen.flow_from_directory(\"D:/FinalDphi/animal_dataset_intermediate/\",\n",
    "                                                    batch_size = 32,\n",
    "                                                    classes=['new_test'], \n",
    "                                                    target_size = (96, 96))"
   ]
  },
  {
   "cell_type": "code",
   "execution_count": 83,
   "metadata": {},
   "outputs": [],
   "source": [
    "preds = model.predict(test_generator) \n",
    "predicted_labels  = np.argmax(preds,axis=1)"
   ]
  },
  {
   "cell_type": "code",
   "execution_count": 84,
   "metadata": {},
   "outputs": [
    {
     "data": {
      "text/plain": [
       "array([3, 3, 1, 3, 3, 4, 3, 2, 1, 1, 4, 1, 2, 3, 2, 1, 3, 3, 3, 1, 1, 2,\n",
       "       1, 3, 3, 3, 3, 3, 2, 3, 3, 3, 3, 3, 3, 3, 1, 3, 1, 3, 3, 3, 3, 3,\n",
       "       1, 1, 3, 3, 4, 2, 1, 1, 2, 1, 1, 1, 3, 1, 1, 3, 3, 2, 1, 3, 1, 3,\n",
       "       3, 1, 3, 3, 4, 1, 4, 3, 1, 1, 1, 2, 3, 3, 1, 1, 1, 1, 3, 1, 2, 3,\n",
       "       1, 2, 1, 3, 1, 2, 3, 1, 3, 3, 3, 3, 1, 3, 1, 3, 1, 3, 1, 3, 3, 0,\n",
       "       4, 3, 1, 4, 4, 3, 3, 2, 3, 3, 1, 3, 2, 3, 1, 3, 1, 1, 2, 3, 3, 3,\n",
       "       2, 1, 1, 1, 1, 4, 1, 1, 3, 1, 3, 1, 1, 4, 1, 3, 1, 4, 3, 2, 1, 3,\n",
       "       1, 3, 1, 3, 3, 4, 1, 1, 2, 1, 3, 4, 1, 1, 3, 3, 3, 1, 3, 1, 1, 1,\n",
       "       3, 3, 2, 1, 2, 3, 3, 3, 1, 3, 0, 1, 3, 3, 1, 1, 4, 3, 1, 3, 0, 1,\n",
       "       3, 2, 4, 3, 1, 2, 3, 3, 1, 2, 1, 1, 3, 2, 3, 3, 2, 3, 1, 4, 3, 3,\n",
       "       1, 3, 3, 4, 3, 3, 1, 4, 3, 3, 1, 1, 4, 2, 2, 2, 3, 4, 1, 1, 3, 2,\n",
       "       3, 1, 3, 3, 3, 1, 1, 1, 1, 3, 3, 3, 1, 1, 2, 3, 2, 1, 3, 1, 3, 1,\n",
       "       1, 3, 1, 1, 3, 3, 1, 1, 1, 1, 2, 3, 1, 3, 4, 2, 1, 3, 3, 3, 1, 3,\n",
       "       4, 3, 4, 3, 3, 3, 3, 2, 3, 1, 3, 3, 1, 3, 1, 3, 2, 1, 3, 3, 3, 3,\n",
       "       1, 3, 1, 1, 3, 1, 1, 2, 2, 3, 1, 3, 3, 4, 3, 3, 3, 1, 3, 1, 1, 2,\n",
       "       1, 1, 3, 3, 3, 2, 1, 3, 1, 2, 1, 3, 2, 1, 1, 4, 1, 1, 1, 1, 2, 1,\n",
       "       1, 4, 1, 3, 2, 3, 3, 3, 3, 2, 1, 1, 2, 1, 2, 3, 1, 4, 1, 3, 1, 3,\n",
       "       3, 4, 3, 1, 2, 2, 3, 1, 3, 3, 2, 3, 1, 1, 3, 1, 3, 1, 1, 3, 1, 1,\n",
       "       1, 3, 1, 3, 3, 3, 3, 1, 4, 3, 3, 3, 3, 1, 1, 1, 1, 1, 1, 3, 1, 4,\n",
       "       3, 1, 2, 1, 1, 1, 1, 1, 1, 3, 1, 1, 1, 1, 3, 3, 3, 1, 1, 3, 3, 3,\n",
       "       3, 1, 3, 2, 3, 3, 3, 3, 3, 1, 4, 3, 1, 1, 3, 1, 1, 1, 3, 1, 1, 3,\n",
       "       2, 3, 2, 1, 3, 3, 3, 1, 1, 4, 3, 2, 3, 1, 3, 1, 1, 1, 1, 3, 1, 1,\n",
       "       1, 3, 3, 1, 3, 3, 4, 3, 1, 3, 3, 3, 4, 1, 3, 3, 1, 3, 1, 3, 1, 3,\n",
       "       3, 1, 3, 1, 3, 3, 3, 4, 1, 1, 4, 3, 3, 3, 2, 1, 2, 2, 1, 2, 3, 3,\n",
       "       3, 3, 2, 3, 4, 3, 4, 3, 3, 3, 2, 3, 1, 3, 3, 1, 3, 3, 2, 1, 3, 1,\n",
       "       1, 2, 3, 3, 3, 3, 3, 2, 1, 3, 1, 4, 2, 3, 1, 3, 3, 3, 3, 3, 1, 3,\n",
       "       3, 4, 1, 1, 1, 1, 1, 1, 1, 3, 1, 3, 1, 2, 3, 3, 3, 3, 3, 3, 4, 0,\n",
       "       1, 1, 2, 3, 2, 1, 3, 1, 3, 3, 3, 3, 3, 3, 3, 3, 3, 1, 2, 3, 3, 3,\n",
       "       1, 1, 3, 1, 1, 4, 4, 1, 3, 1, 1, 1, 1, 3, 1, 4, 1, 2, 4, 1, 3, 1,\n",
       "       3, 1, 3, 1, 3, 1, 3, 1, 1, 2, 4, 3, 4, 1, 3, 1, 3, 4, 1, 1, 3, 4,\n",
       "       3, 3, 1, 1, 3, 3, 3, 1, 4, 3, 1, 1, 3, 1, 1, 3, 1, 2, 1, 3, 1, 3,\n",
       "       1, 3, 1, 3, 3, 2, 3, 4, 3, 3, 3, 3, 1, 1, 1, 3, 3, 3, 4, 1, 3, 3,\n",
       "       3, 1, 2, 3, 1, 1, 4, 3, 1, 3, 4, 1, 3, 1, 1, 1, 1, 1, 3, 1, 3, 1,\n",
       "       4, 1, 2, 3, 3, 1, 1, 2, 3, 1, 3, 1, 1, 1, 3, 2, 3, 3, 2, 2, 1, 3,\n",
       "       2, 3, 2, 1, 3, 4, 2, 3, 3, 3, 3, 3, 3, 4, 1, 1, 1, 4, 1, 1, 3, 2,\n",
       "       3, 1, 1, 4, 4, 3, 1, 1, 0, 3, 1, 4, 3, 1, 3, 3, 3, 1, 1, 3, 3, 1,\n",
       "       4, 1, 1, 2, 3, 4, 1, 1, 3, 3, 1, 4, 3, 1, 1, 3, 1, 3, 3, 3, 3, 1,\n",
       "       3, 3, 3, 1, 4, 1, 3, 3, 2, 3, 1, 3, 1, 3, 3, 1, 3, 1, 3, 1, 3, 3,\n",
       "       2, 1, 4, 3, 3, 3, 2, 2, 2, 3, 1, 1, 1, 1, 3, 1, 3, 1, 3, 3, 1, 4,\n",
       "       3, 3, 1, 3, 4, 3, 3, 2, 3, 1, 3, 3, 3, 2, 1, 1, 2, 1, 1, 3, 1, 3,\n",
       "       3, 3, 1, 3, 3, 3, 3, 3, 1, 0, 1, 1, 2, 1, 3, 3, 1, 0, 3, 1, 3, 3,\n",
       "       1, 3, 1, 1, 2, 1, 1, 1], dtype=int64)"
      ]
     },
     "execution_count": 84,
     "metadata": {},
     "output_type": "execute_result"
    }
   ],
   "source": [
    "predicted_labels"
   ]
  },
  {
   "cell_type": "code",
   "execution_count": 88,
   "metadata": {},
   "outputs": [],
   "source": [
    "cl=['elefante', 'farfalla','mucca','pecora','scoiattolo']"
   ]
  },
  {
   "cell_type": "markdown",
   "metadata": {},
   "source": [
    "Predicted values converted into label"
   ]
  },
  {
   "cell_type": "code",
   "execution_count": 89,
   "metadata": {},
   "outputs": [],
   "source": [
    "predicted_values=[cl[i] for i in predicted_labels]"
   ]
  },
  {
   "cell_type": "code",
   "execution_count": 94,
   "metadata": {},
   "outputs": [],
   "source": [
    "label_map = (train_batches.class_indices)"
   ]
  },
  {
   "cell_type": "code",
   "execution_count": 95,
   "metadata": {},
   "outputs": [
    {
     "data": {
      "text/plain": [
       "{'elefante_train': 0,\n",
       " 'farfalla_train': 1,\n",
       " 'mucca_train': 2,\n",
       " 'pecora_train': 3,\n",
       " 'scoiattolo_train': 4}"
      ]
     },
     "execution_count": 95,
     "metadata": {},
     "output_type": "execute_result"
    }
   ],
   "source": [
    "label_map"
   ]
  },
  {
   "cell_type": "code",
   "execution_count": 90,
   "metadata": {},
   "outputs": [
    {
     "data": {
      "text/plain": [
       "['pecora',\n",
       " 'pecora',\n",
       " 'farfalla',\n",
       " 'pecora',\n",
       " 'pecora',\n",
       " 'scoiattolo',\n",
       " 'pecora',\n",
       " 'mucca',\n",
       " 'farfalla',\n",
       " 'farfalla',\n",
       " 'scoiattolo',\n",
       " 'farfalla',\n",
       " 'mucca',\n",
       " 'pecora',\n",
       " 'mucca',\n",
       " 'farfalla',\n",
       " 'pecora',\n",
       " 'pecora',\n",
       " 'pecora',\n",
       " 'farfalla',\n",
       " 'farfalla',\n",
       " 'mucca',\n",
       " 'farfalla',\n",
       " 'pecora',\n",
       " 'pecora',\n",
       " 'pecora',\n",
       " 'pecora',\n",
       " 'pecora',\n",
       " 'mucca',\n",
       " 'pecora',\n",
       " 'pecora',\n",
       " 'pecora',\n",
       " 'pecora',\n",
       " 'pecora',\n",
       " 'pecora',\n",
       " 'pecora',\n",
       " 'farfalla',\n",
       " 'pecora',\n",
       " 'farfalla',\n",
       " 'pecora',\n",
       " 'pecora',\n",
       " 'pecora',\n",
       " 'pecora',\n",
       " 'pecora',\n",
       " 'farfalla',\n",
       " 'farfalla',\n",
       " 'pecora',\n",
       " 'pecora',\n",
       " 'scoiattolo',\n",
       " 'mucca',\n",
       " 'farfalla',\n",
       " 'farfalla',\n",
       " 'mucca',\n",
       " 'farfalla',\n",
       " 'farfalla',\n",
       " 'farfalla',\n",
       " 'pecora',\n",
       " 'farfalla',\n",
       " 'farfalla',\n",
       " 'pecora',\n",
       " 'pecora',\n",
       " 'mucca',\n",
       " 'farfalla',\n",
       " 'pecora',\n",
       " 'farfalla',\n",
       " 'pecora',\n",
       " 'pecora',\n",
       " 'farfalla',\n",
       " 'pecora',\n",
       " 'pecora',\n",
       " 'scoiattolo',\n",
       " 'farfalla',\n",
       " 'scoiattolo',\n",
       " 'pecora',\n",
       " 'farfalla',\n",
       " 'farfalla',\n",
       " 'farfalla',\n",
       " 'mucca',\n",
       " 'pecora',\n",
       " 'pecora',\n",
       " 'farfalla',\n",
       " 'farfalla',\n",
       " 'farfalla',\n",
       " 'farfalla',\n",
       " 'pecora',\n",
       " 'farfalla',\n",
       " 'mucca',\n",
       " 'pecora',\n",
       " 'farfalla',\n",
       " 'mucca',\n",
       " 'farfalla',\n",
       " 'pecora',\n",
       " 'farfalla',\n",
       " 'mucca',\n",
       " 'pecora',\n",
       " 'farfalla',\n",
       " 'pecora',\n",
       " 'pecora',\n",
       " 'pecora',\n",
       " 'pecora',\n",
       " 'farfalla',\n",
       " 'pecora',\n",
       " 'farfalla',\n",
       " 'pecora',\n",
       " 'farfalla',\n",
       " 'pecora',\n",
       " 'farfalla',\n",
       " 'pecora',\n",
       " 'pecora',\n",
       " 'elefante',\n",
       " 'scoiattolo',\n",
       " 'pecora',\n",
       " 'farfalla',\n",
       " 'scoiattolo',\n",
       " 'scoiattolo',\n",
       " 'pecora',\n",
       " 'pecora',\n",
       " 'mucca',\n",
       " 'pecora',\n",
       " 'pecora',\n",
       " 'farfalla',\n",
       " 'pecora',\n",
       " 'mucca',\n",
       " 'pecora',\n",
       " 'farfalla',\n",
       " 'pecora',\n",
       " 'farfalla',\n",
       " 'farfalla',\n",
       " 'mucca',\n",
       " 'pecora',\n",
       " 'pecora',\n",
       " 'pecora',\n",
       " 'mucca',\n",
       " 'farfalla',\n",
       " 'farfalla',\n",
       " 'farfalla',\n",
       " 'farfalla',\n",
       " 'scoiattolo',\n",
       " 'farfalla',\n",
       " 'farfalla',\n",
       " 'pecora',\n",
       " 'farfalla',\n",
       " 'pecora',\n",
       " 'farfalla',\n",
       " 'farfalla',\n",
       " 'scoiattolo',\n",
       " 'farfalla',\n",
       " 'pecora',\n",
       " 'farfalla',\n",
       " 'scoiattolo',\n",
       " 'pecora',\n",
       " 'mucca',\n",
       " 'farfalla',\n",
       " 'pecora',\n",
       " 'farfalla',\n",
       " 'pecora',\n",
       " 'farfalla',\n",
       " 'pecora',\n",
       " 'pecora',\n",
       " 'scoiattolo',\n",
       " 'farfalla',\n",
       " 'farfalla',\n",
       " 'mucca',\n",
       " 'farfalla',\n",
       " 'pecora',\n",
       " 'scoiattolo',\n",
       " 'farfalla',\n",
       " 'farfalla',\n",
       " 'pecora',\n",
       " 'pecora',\n",
       " 'pecora',\n",
       " 'farfalla',\n",
       " 'pecora',\n",
       " 'farfalla',\n",
       " 'farfalla',\n",
       " 'farfalla',\n",
       " 'pecora',\n",
       " 'pecora',\n",
       " 'mucca',\n",
       " 'farfalla',\n",
       " 'mucca',\n",
       " 'pecora',\n",
       " 'pecora',\n",
       " 'pecora',\n",
       " 'farfalla',\n",
       " 'pecora',\n",
       " 'elefante',\n",
       " 'farfalla',\n",
       " 'pecora',\n",
       " 'pecora',\n",
       " 'farfalla',\n",
       " 'farfalla',\n",
       " 'scoiattolo',\n",
       " 'pecora',\n",
       " 'farfalla',\n",
       " 'pecora',\n",
       " 'elefante',\n",
       " 'farfalla',\n",
       " 'pecora',\n",
       " 'mucca',\n",
       " 'scoiattolo',\n",
       " 'pecora',\n",
       " 'farfalla',\n",
       " 'mucca',\n",
       " 'pecora',\n",
       " 'pecora',\n",
       " 'farfalla',\n",
       " 'mucca',\n",
       " 'farfalla',\n",
       " 'farfalla',\n",
       " 'pecora',\n",
       " 'mucca',\n",
       " 'pecora',\n",
       " 'pecora',\n",
       " 'mucca',\n",
       " 'pecora',\n",
       " 'farfalla',\n",
       " 'scoiattolo',\n",
       " 'pecora',\n",
       " 'pecora',\n",
       " 'farfalla',\n",
       " 'pecora',\n",
       " 'pecora',\n",
       " 'scoiattolo',\n",
       " 'pecora',\n",
       " 'pecora',\n",
       " 'farfalla',\n",
       " 'scoiattolo',\n",
       " 'pecora',\n",
       " 'pecora',\n",
       " 'farfalla',\n",
       " 'farfalla',\n",
       " 'scoiattolo',\n",
       " 'mucca',\n",
       " 'mucca',\n",
       " 'mucca',\n",
       " 'pecora',\n",
       " 'scoiattolo',\n",
       " 'farfalla',\n",
       " 'farfalla',\n",
       " 'pecora',\n",
       " 'mucca',\n",
       " 'pecora',\n",
       " 'farfalla',\n",
       " 'pecora',\n",
       " 'pecora',\n",
       " 'pecora',\n",
       " 'farfalla',\n",
       " 'farfalla',\n",
       " 'farfalla',\n",
       " 'farfalla',\n",
       " 'pecora',\n",
       " 'pecora',\n",
       " 'pecora',\n",
       " 'farfalla',\n",
       " 'farfalla',\n",
       " 'mucca',\n",
       " 'pecora',\n",
       " 'mucca',\n",
       " 'farfalla',\n",
       " 'pecora',\n",
       " 'farfalla',\n",
       " 'pecora',\n",
       " 'farfalla',\n",
       " 'farfalla',\n",
       " 'pecora',\n",
       " 'farfalla',\n",
       " 'farfalla',\n",
       " 'pecora',\n",
       " 'pecora',\n",
       " 'farfalla',\n",
       " 'farfalla',\n",
       " 'farfalla',\n",
       " 'farfalla',\n",
       " 'mucca',\n",
       " 'pecora',\n",
       " 'farfalla',\n",
       " 'pecora',\n",
       " 'scoiattolo',\n",
       " 'mucca',\n",
       " 'farfalla',\n",
       " 'pecora',\n",
       " 'pecora',\n",
       " 'pecora',\n",
       " 'farfalla',\n",
       " 'pecora',\n",
       " 'scoiattolo',\n",
       " 'pecora',\n",
       " 'scoiattolo',\n",
       " 'pecora',\n",
       " 'pecora',\n",
       " 'pecora',\n",
       " 'pecora',\n",
       " 'mucca',\n",
       " 'pecora',\n",
       " 'farfalla',\n",
       " 'pecora',\n",
       " 'pecora',\n",
       " 'farfalla',\n",
       " 'pecora',\n",
       " 'farfalla',\n",
       " 'pecora',\n",
       " 'mucca',\n",
       " 'farfalla',\n",
       " 'pecora',\n",
       " 'pecora',\n",
       " 'pecora',\n",
       " 'pecora',\n",
       " 'farfalla',\n",
       " 'pecora',\n",
       " 'farfalla',\n",
       " 'farfalla',\n",
       " 'pecora',\n",
       " 'farfalla',\n",
       " 'farfalla',\n",
       " 'mucca',\n",
       " 'mucca',\n",
       " 'pecora',\n",
       " 'farfalla',\n",
       " 'pecora',\n",
       " 'pecora',\n",
       " 'scoiattolo',\n",
       " 'pecora',\n",
       " 'pecora',\n",
       " 'pecora',\n",
       " 'farfalla',\n",
       " 'pecora',\n",
       " 'farfalla',\n",
       " 'farfalla',\n",
       " 'mucca',\n",
       " 'farfalla',\n",
       " 'farfalla',\n",
       " 'pecora',\n",
       " 'pecora',\n",
       " 'pecora',\n",
       " 'mucca',\n",
       " 'farfalla',\n",
       " 'pecora',\n",
       " 'farfalla',\n",
       " 'mucca',\n",
       " 'farfalla',\n",
       " 'pecora',\n",
       " 'mucca',\n",
       " 'farfalla',\n",
       " 'farfalla',\n",
       " 'scoiattolo',\n",
       " 'farfalla',\n",
       " 'farfalla',\n",
       " 'farfalla',\n",
       " 'farfalla',\n",
       " 'mucca',\n",
       " 'farfalla',\n",
       " 'farfalla',\n",
       " 'scoiattolo',\n",
       " 'farfalla',\n",
       " 'pecora',\n",
       " 'mucca',\n",
       " 'pecora',\n",
       " 'pecora',\n",
       " 'pecora',\n",
       " 'pecora',\n",
       " 'mucca',\n",
       " 'farfalla',\n",
       " 'farfalla',\n",
       " 'mucca',\n",
       " 'farfalla',\n",
       " 'mucca',\n",
       " 'pecora',\n",
       " 'farfalla',\n",
       " 'scoiattolo',\n",
       " 'farfalla',\n",
       " 'pecora',\n",
       " 'farfalla',\n",
       " 'pecora',\n",
       " 'pecora',\n",
       " 'scoiattolo',\n",
       " 'pecora',\n",
       " 'farfalla',\n",
       " 'mucca',\n",
       " 'mucca',\n",
       " 'pecora',\n",
       " 'farfalla',\n",
       " 'pecora',\n",
       " 'pecora',\n",
       " 'mucca',\n",
       " 'pecora',\n",
       " 'farfalla',\n",
       " 'farfalla',\n",
       " 'pecora',\n",
       " 'farfalla',\n",
       " 'pecora',\n",
       " 'farfalla',\n",
       " 'farfalla',\n",
       " 'pecora',\n",
       " 'farfalla',\n",
       " 'farfalla',\n",
       " 'farfalla',\n",
       " 'pecora',\n",
       " 'farfalla',\n",
       " 'pecora',\n",
       " 'pecora',\n",
       " 'pecora',\n",
       " 'pecora',\n",
       " 'farfalla',\n",
       " 'scoiattolo',\n",
       " 'pecora',\n",
       " 'pecora',\n",
       " 'pecora',\n",
       " 'pecora',\n",
       " 'farfalla',\n",
       " 'farfalla',\n",
       " 'farfalla',\n",
       " 'farfalla',\n",
       " 'farfalla',\n",
       " 'farfalla',\n",
       " 'pecora',\n",
       " 'farfalla',\n",
       " 'scoiattolo',\n",
       " 'pecora',\n",
       " 'farfalla',\n",
       " 'mucca',\n",
       " 'farfalla',\n",
       " 'farfalla',\n",
       " 'farfalla',\n",
       " 'farfalla',\n",
       " 'farfalla',\n",
       " 'farfalla',\n",
       " 'pecora',\n",
       " 'farfalla',\n",
       " 'farfalla',\n",
       " 'farfalla',\n",
       " 'farfalla',\n",
       " 'pecora',\n",
       " 'pecora',\n",
       " 'pecora',\n",
       " 'farfalla',\n",
       " 'farfalla',\n",
       " 'pecora',\n",
       " 'pecora',\n",
       " 'pecora',\n",
       " 'pecora',\n",
       " 'farfalla',\n",
       " 'pecora',\n",
       " 'mucca',\n",
       " 'pecora',\n",
       " 'pecora',\n",
       " 'pecora',\n",
       " 'pecora',\n",
       " 'pecora',\n",
       " 'farfalla',\n",
       " 'scoiattolo',\n",
       " 'pecora',\n",
       " 'farfalla',\n",
       " 'farfalla',\n",
       " 'pecora',\n",
       " 'farfalla',\n",
       " 'farfalla',\n",
       " 'farfalla',\n",
       " 'pecora',\n",
       " 'farfalla',\n",
       " 'farfalla',\n",
       " 'pecora',\n",
       " 'mucca',\n",
       " 'pecora',\n",
       " 'mucca',\n",
       " 'farfalla',\n",
       " 'pecora',\n",
       " 'pecora',\n",
       " 'pecora',\n",
       " 'farfalla',\n",
       " 'farfalla',\n",
       " 'scoiattolo',\n",
       " 'pecora',\n",
       " 'mucca',\n",
       " 'pecora',\n",
       " 'farfalla',\n",
       " 'pecora',\n",
       " 'farfalla',\n",
       " 'farfalla',\n",
       " 'farfalla',\n",
       " 'farfalla',\n",
       " 'pecora',\n",
       " 'farfalla',\n",
       " 'farfalla',\n",
       " 'farfalla',\n",
       " 'pecora',\n",
       " 'pecora',\n",
       " 'farfalla',\n",
       " 'pecora',\n",
       " 'pecora',\n",
       " 'scoiattolo',\n",
       " 'pecora',\n",
       " 'farfalla',\n",
       " 'pecora',\n",
       " 'pecora',\n",
       " 'pecora',\n",
       " 'scoiattolo',\n",
       " 'farfalla',\n",
       " 'pecora',\n",
       " 'pecora',\n",
       " 'farfalla',\n",
       " 'pecora',\n",
       " 'farfalla',\n",
       " 'pecora',\n",
       " 'farfalla',\n",
       " 'pecora',\n",
       " 'pecora',\n",
       " 'farfalla',\n",
       " 'pecora',\n",
       " 'farfalla',\n",
       " 'pecora',\n",
       " 'pecora',\n",
       " 'pecora',\n",
       " 'scoiattolo',\n",
       " 'farfalla',\n",
       " 'farfalla',\n",
       " 'scoiattolo',\n",
       " 'pecora',\n",
       " 'pecora',\n",
       " 'pecora',\n",
       " 'mucca',\n",
       " 'farfalla',\n",
       " 'mucca',\n",
       " 'mucca',\n",
       " 'farfalla',\n",
       " 'mucca',\n",
       " 'pecora',\n",
       " 'pecora',\n",
       " 'pecora',\n",
       " 'pecora',\n",
       " 'mucca',\n",
       " 'pecora',\n",
       " 'scoiattolo',\n",
       " 'pecora',\n",
       " 'scoiattolo',\n",
       " 'pecora',\n",
       " 'pecora',\n",
       " 'pecora',\n",
       " 'mucca',\n",
       " 'pecora',\n",
       " 'farfalla',\n",
       " 'pecora',\n",
       " 'pecora',\n",
       " 'farfalla',\n",
       " 'pecora',\n",
       " 'pecora',\n",
       " 'mucca',\n",
       " 'farfalla',\n",
       " 'pecora',\n",
       " 'farfalla',\n",
       " 'farfalla',\n",
       " 'mucca',\n",
       " 'pecora',\n",
       " 'pecora',\n",
       " 'pecora',\n",
       " 'pecora',\n",
       " 'pecora',\n",
       " 'mucca',\n",
       " 'farfalla',\n",
       " 'pecora',\n",
       " 'farfalla',\n",
       " 'scoiattolo',\n",
       " 'mucca',\n",
       " 'pecora',\n",
       " 'farfalla',\n",
       " 'pecora',\n",
       " 'pecora',\n",
       " 'pecora',\n",
       " 'pecora',\n",
       " 'pecora',\n",
       " 'farfalla',\n",
       " 'pecora',\n",
       " 'pecora',\n",
       " 'scoiattolo',\n",
       " 'farfalla',\n",
       " 'farfalla',\n",
       " 'farfalla',\n",
       " 'farfalla',\n",
       " 'farfalla',\n",
       " 'farfalla',\n",
       " 'farfalla',\n",
       " 'pecora',\n",
       " 'farfalla',\n",
       " 'pecora',\n",
       " 'farfalla',\n",
       " 'mucca',\n",
       " 'pecora',\n",
       " 'pecora',\n",
       " 'pecora',\n",
       " 'pecora',\n",
       " 'pecora',\n",
       " 'pecora',\n",
       " 'scoiattolo',\n",
       " 'elefante',\n",
       " 'farfalla',\n",
       " 'farfalla',\n",
       " 'mucca',\n",
       " 'pecora',\n",
       " 'mucca',\n",
       " 'farfalla',\n",
       " 'pecora',\n",
       " 'farfalla',\n",
       " 'pecora',\n",
       " 'pecora',\n",
       " 'pecora',\n",
       " 'pecora',\n",
       " 'pecora',\n",
       " 'pecora',\n",
       " 'pecora',\n",
       " 'pecora',\n",
       " 'pecora',\n",
       " 'farfalla',\n",
       " 'mucca',\n",
       " 'pecora',\n",
       " 'pecora',\n",
       " 'pecora',\n",
       " 'farfalla',\n",
       " 'farfalla',\n",
       " 'pecora',\n",
       " 'farfalla',\n",
       " 'farfalla',\n",
       " 'scoiattolo',\n",
       " 'scoiattolo',\n",
       " 'farfalla',\n",
       " 'pecora',\n",
       " 'farfalla',\n",
       " 'farfalla',\n",
       " 'farfalla',\n",
       " 'farfalla',\n",
       " 'pecora',\n",
       " 'farfalla',\n",
       " 'scoiattolo',\n",
       " 'farfalla',\n",
       " 'mucca',\n",
       " 'scoiattolo',\n",
       " 'farfalla',\n",
       " 'pecora',\n",
       " 'farfalla',\n",
       " 'pecora',\n",
       " 'farfalla',\n",
       " 'pecora',\n",
       " 'farfalla',\n",
       " 'pecora',\n",
       " 'farfalla',\n",
       " 'pecora',\n",
       " 'farfalla',\n",
       " 'farfalla',\n",
       " 'mucca',\n",
       " 'scoiattolo',\n",
       " 'pecora',\n",
       " 'scoiattolo',\n",
       " 'farfalla',\n",
       " 'pecora',\n",
       " 'farfalla',\n",
       " 'pecora',\n",
       " 'scoiattolo',\n",
       " 'farfalla',\n",
       " 'farfalla',\n",
       " 'pecora',\n",
       " 'scoiattolo',\n",
       " 'pecora',\n",
       " 'pecora',\n",
       " 'farfalla',\n",
       " 'farfalla',\n",
       " 'pecora',\n",
       " 'pecora',\n",
       " 'pecora',\n",
       " 'farfalla',\n",
       " 'scoiattolo',\n",
       " 'pecora',\n",
       " 'farfalla',\n",
       " 'farfalla',\n",
       " 'pecora',\n",
       " 'farfalla',\n",
       " 'farfalla',\n",
       " 'pecora',\n",
       " 'farfalla',\n",
       " 'mucca',\n",
       " 'farfalla',\n",
       " 'pecora',\n",
       " 'farfalla',\n",
       " 'pecora',\n",
       " 'farfalla',\n",
       " 'pecora',\n",
       " 'farfalla',\n",
       " 'pecora',\n",
       " 'pecora',\n",
       " 'mucca',\n",
       " 'pecora',\n",
       " 'scoiattolo',\n",
       " 'pecora',\n",
       " 'pecora',\n",
       " 'pecora',\n",
       " 'pecora',\n",
       " 'farfalla',\n",
       " 'farfalla',\n",
       " 'farfalla',\n",
       " 'pecora',\n",
       " 'pecora',\n",
       " 'pecora',\n",
       " 'scoiattolo',\n",
       " 'farfalla',\n",
       " 'pecora',\n",
       " 'pecora',\n",
       " 'pecora',\n",
       " 'farfalla',\n",
       " 'mucca',\n",
       " 'pecora',\n",
       " 'farfalla',\n",
       " 'farfalla',\n",
       " 'scoiattolo',\n",
       " 'pecora',\n",
       " 'farfalla',\n",
       " 'pecora',\n",
       " 'scoiattolo',\n",
       " 'farfalla',\n",
       " 'pecora',\n",
       " 'farfalla',\n",
       " 'farfalla',\n",
       " 'farfalla',\n",
       " 'farfalla',\n",
       " 'farfalla',\n",
       " 'pecora',\n",
       " 'farfalla',\n",
       " 'pecora',\n",
       " 'farfalla',\n",
       " 'scoiattolo',\n",
       " 'farfalla',\n",
       " 'mucca',\n",
       " 'pecora',\n",
       " 'pecora',\n",
       " 'farfalla',\n",
       " 'farfalla',\n",
       " 'mucca',\n",
       " 'pecora',\n",
       " 'farfalla',\n",
       " 'pecora',\n",
       " 'farfalla',\n",
       " 'farfalla',\n",
       " 'farfalla',\n",
       " 'pecora',\n",
       " 'mucca',\n",
       " 'pecora',\n",
       " 'pecora',\n",
       " 'mucca',\n",
       " 'mucca',\n",
       " 'farfalla',\n",
       " 'pecora',\n",
       " 'mucca',\n",
       " 'pecora',\n",
       " 'mucca',\n",
       " 'farfalla',\n",
       " 'pecora',\n",
       " 'scoiattolo',\n",
       " 'mucca',\n",
       " 'pecora',\n",
       " 'pecora',\n",
       " 'pecora',\n",
       " 'pecora',\n",
       " 'pecora',\n",
       " 'pecora',\n",
       " 'scoiattolo',\n",
       " 'farfalla',\n",
       " 'farfalla',\n",
       " 'farfalla',\n",
       " 'scoiattolo',\n",
       " 'farfalla',\n",
       " 'farfalla',\n",
       " 'pecora',\n",
       " 'mucca',\n",
       " 'pecora',\n",
       " 'farfalla',\n",
       " 'farfalla',\n",
       " 'scoiattolo',\n",
       " 'scoiattolo',\n",
       " 'pecora',\n",
       " 'farfalla',\n",
       " 'farfalla',\n",
       " 'elefante',\n",
       " 'pecora',\n",
       " 'farfalla',\n",
       " 'scoiattolo',\n",
       " 'pecora',\n",
       " 'farfalla',\n",
       " 'pecora',\n",
       " 'pecora',\n",
       " 'pecora',\n",
       " 'farfalla',\n",
       " 'farfalla',\n",
       " 'pecora',\n",
       " 'pecora',\n",
       " 'farfalla',\n",
       " 'scoiattolo',\n",
       " 'farfalla',\n",
       " 'farfalla',\n",
       " 'mucca',\n",
       " 'pecora',\n",
       " 'scoiattolo',\n",
       " 'farfalla',\n",
       " 'farfalla',\n",
       " 'pecora',\n",
       " 'pecora',\n",
       " 'farfalla',\n",
       " 'scoiattolo',\n",
       " 'pecora',\n",
       " 'farfalla',\n",
       " 'farfalla',\n",
       " 'pecora',\n",
       " 'farfalla',\n",
       " 'pecora',\n",
       " 'pecora',\n",
       " 'pecora',\n",
       " 'pecora',\n",
       " 'farfalla',\n",
       " 'pecora',\n",
       " 'pecora',\n",
       " 'pecora',\n",
       " 'farfalla',\n",
       " 'scoiattolo',\n",
       " 'farfalla',\n",
       " 'pecora',\n",
       " 'pecora',\n",
       " 'mucca',\n",
       " 'pecora',\n",
       " 'farfalla',\n",
       " 'pecora',\n",
       " 'farfalla',\n",
       " 'pecora',\n",
       " 'pecora',\n",
       " 'farfalla',\n",
       " 'pecora',\n",
       " 'farfalla',\n",
       " 'pecora',\n",
       " 'farfalla',\n",
       " 'pecora',\n",
       " 'pecora',\n",
       " 'mucca',\n",
       " 'farfalla',\n",
       " 'scoiattolo',\n",
       " 'pecora',\n",
       " 'pecora',\n",
       " 'pecora',\n",
       " 'mucca',\n",
       " 'mucca',\n",
       " 'mucca',\n",
       " 'pecora',\n",
       " 'farfalla',\n",
       " 'farfalla',\n",
       " 'farfalla',\n",
       " 'farfalla',\n",
       " 'pecora',\n",
       " 'farfalla',\n",
       " 'pecora',\n",
       " 'farfalla',\n",
       " 'pecora',\n",
       " 'pecora',\n",
       " 'farfalla',\n",
       " 'scoiattolo',\n",
       " 'pecora',\n",
       " 'pecora',\n",
       " 'farfalla',\n",
       " 'pecora',\n",
       " 'scoiattolo',\n",
       " 'pecora',\n",
       " 'pecora',\n",
       " 'mucca',\n",
       " 'pecora',\n",
       " 'farfalla',\n",
       " 'pecora',\n",
       " 'pecora',\n",
       " 'pecora',\n",
       " 'mucca',\n",
       " 'farfalla',\n",
       " 'farfalla',\n",
       " 'mucca',\n",
       " 'farfalla',\n",
       " 'farfalla',\n",
       " 'pecora',\n",
       " 'farfalla',\n",
       " 'pecora',\n",
       " 'pecora',\n",
       " 'pecora',\n",
       " 'farfalla',\n",
       " 'pecora',\n",
       " 'pecora',\n",
       " 'pecora',\n",
       " 'pecora',\n",
       " 'pecora',\n",
       " 'farfalla',\n",
       " 'elefante',\n",
       " 'farfalla',\n",
       " 'farfalla',\n",
       " 'mucca',\n",
       " 'farfalla',\n",
       " 'pecora',\n",
       " 'pecora',\n",
       " 'farfalla',\n",
       " 'elefante',\n",
       " 'pecora',\n",
       " 'farfalla',\n",
       " 'pecora',\n",
       " 'pecora',\n",
       " 'farfalla',\n",
       " 'pecora',\n",
       " 'farfalla',\n",
       " 'farfalla',\n",
       " 'mucca',\n",
       " 'farfalla',\n",
       " 'farfalla',\n",
       " 'farfalla']"
      ]
     },
     "execution_count": 90,
     "metadata": {},
     "output_type": "execute_result"
    }
   ],
   "source": [
    "predicted_values"
   ]
  },
  {
   "cell_type": "code",
   "execution_count": 93,
   "metadata": {},
   "outputs": [
    {
     "data": {
      "text/plain": [
       "['scoiattolo', 'pecora', 'farfalla', 'pecora']"
      ]
     },
     "execution_count": 93,
     "metadata": {},
     "output_type": "execute_result"
    }
   ],
   "source": [
    "predicted_values[490:494]"
   ]
  },
  {
   "cell_type": "code",
   "execution_count": 91,
   "metadata": {},
   "outputs": [],
   "source": [
    "res = pd.DataFrame(predicted_values) #preditcions are nothing but the final predictions of your model on input features of your new unseen test data\n",
    "res.columns = [\"prediction\"]\n",
    "res.to_csv(\"prediction_Assignment2_101.csv\") "
   ]
  },
  {
   "cell_type": "markdown",
   "metadata": {},
   "source": [
    "After trying for ages and receiving and receiving 97% train accuracy and 81% validation accuracy I figured out that the results werent satisfactory for me. The difference between train and validation was a clear sign of overfitting and the result on dphi wasnt that good so I researched a bit and came up with this solution"
   ]
  },
  {
   "cell_type": "markdown",
   "metadata": {},
   "source": [
    "## Task 7: Building The final model\n",
    "I used VGG-16 to train the the model.VGG16 is a convolutional neural network model proposed by K. Simonyan and A. Zisserman from the University of Oxford in the paper “Very Deep Convolutional Networks for Large-Scale Image Recognition”. The model achieves 92.7% top-5 test accuracy in ImageNet, which is a dataset of over 14 million images belonging to 1000 classes. It was one of the famous model submitted to ILSVRC-2014.\n",
    "This can be classified as deep transfered learning."
   ]
  },
  {
   "cell_type": "code",
   "execution_count": 171,
   "metadata": {},
   "outputs": [],
   "source": [
    "import numpy as np\n",
    "import pandas as pd\n",
    "import os\n",
    "import cv2\n",
    "import matplotlib.pyplot as plt\n",
    "from tqdm import tqdm_notebook as tqdm\n",
    "from sklearn.utils import class_weight, shuffle\n",
    "from keras import applications\n",
    "from keras import optimizers\n",
    "from keras.utils import to_categorical\n",
    "from keras.models import Sequential, Model, load_model\n",
    "from keras.layers import Dropout, Flatten, Dense\n",
    "from keras.preprocessing.image import ImageDataGenerator\n",
    "from keras.callbacks import ModelCheckpoint"
   ]
  },
  {
   "cell_type": "markdown",
   "metadata": {},
   "source": [
    "### Task 1: Loading Data  Final\n",
    "Through a bit of research I found this way to load data using csv. I found it interesting and useful considering we need to reoreder images for predictions. Basically we are doing the same process of saving the data by going through each foder and assigning the label but we are saving the data in a csv instead of saving them in a list. I also split the data further into train and validation sets but ended up not using the split and going with th e whole dataframe.\n"
   ]
  },
  {
   "cell_type": "code",
   "execution_count": 172,
   "metadata": {},
   "outputs": [
    {
     "data": {
      "text/html": [
       "<div>\n",
       "<style scoped>\n",
       "    .dataframe tbody tr th:only-of-type {\n",
       "        vertical-align: middle;\n",
       "    }\n",
       "\n",
       "    .dataframe tbody tr th {\n",
       "        vertical-align: top;\n",
       "    }\n",
       "\n",
       "    .dataframe thead th {\n",
       "        text-align: right;\n",
       "    }\n",
       "</style>\n",
       "<table border=\"1\" class=\"dataframe\">\n",
       "  <thead>\n",
       "    <tr style=\"text-align: right;\">\n",
       "      <th></th>\n",
       "      <th>filename</th>\n",
       "      <th>category</th>\n",
       "    </tr>\n",
       "  </thead>\n",
       "  <tbody>\n",
       "    <tr>\n",
       "      <th>0</th>\n",
       "      <td>D:/FinalDphi/animal_dataset_intermediate/train...</td>\n",
       "      <td>0</td>\n",
       "    </tr>\n",
       "    <tr>\n",
       "      <th>1</th>\n",
       "      <td>D:/FinalDphi/animal_dataset_intermediate/train...</td>\n",
       "      <td>0</td>\n",
       "    </tr>\n",
       "    <tr>\n",
       "      <th>2</th>\n",
       "      <td>D:/FinalDphi/animal_dataset_intermediate/train...</td>\n",
       "      <td>0</td>\n",
       "    </tr>\n",
       "    <tr>\n",
       "      <th>3</th>\n",
       "      <td>D:/FinalDphi/animal_dataset_intermediate/train...</td>\n",
       "      <td>0</td>\n",
       "    </tr>\n",
       "    <tr>\n",
       "      <th>4</th>\n",
       "      <td>D:/FinalDphi/animal_dataset_intermediate/train...</td>\n",
       "      <td>0</td>\n",
       "    </tr>\n",
       "    <tr>\n",
       "      <th>...</th>\n",
       "      <td>...</td>\n",
       "      <td>...</td>\n",
       "    </tr>\n",
       "    <tr>\n",
       "      <th>2495</th>\n",
       "      <td>D:/FinalDphi/animal_dataset_intermediate/train...</td>\n",
       "      <td>4</td>\n",
       "    </tr>\n",
       "    <tr>\n",
       "      <th>2496</th>\n",
       "      <td>D:/FinalDphi/animal_dataset_intermediate/train...</td>\n",
       "      <td>4</td>\n",
       "    </tr>\n",
       "    <tr>\n",
       "      <th>2497</th>\n",
       "      <td>D:/FinalDphi/animal_dataset_intermediate/train...</td>\n",
       "      <td>4</td>\n",
       "    </tr>\n",
       "    <tr>\n",
       "      <th>2498</th>\n",
       "      <td>D:/FinalDphi/animal_dataset_intermediate/train...</td>\n",
       "      <td>4</td>\n",
       "    </tr>\n",
       "    <tr>\n",
       "      <th>2499</th>\n",
       "      <td>D:/FinalDphi/animal_dataset_intermediate/train...</td>\n",
       "      <td>4</td>\n",
       "    </tr>\n",
       "  </tbody>\n",
       "</table>\n",
       "<p>2500 rows × 2 columns</p>\n",
       "</div>"
      ],
      "text/plain": [
       "                                               filename category\n",
       "0     D:/FinalDphi/animal_dataset_intermediate/train...        0\n",
       "1     D:/FinalDphi/animal_dataset_intermediate/train...        0\n",
       "2     D:/FinalDphi/animal_dataset_intermediate/train...        0\n",
       "3     D:/FinalDphi/animal_dataset_intermediate/train...        0\n",
       "4     D:/FinalDphi/animal_dataset_intermediate/train...        0\n",
       "...                                                 ...      ...\n",
       "2495  D:/FinalDphi/animal_dataset_intermediate/train...        4\n",
       "2496  D:/FinalDphi/animal_dataset_intermediate/train...        4\n",
       "2497  D:/FinalDphi/animal_dataset_intermediate/train...        4\n",
       "2498  D:/FinalDphi/animal_dataset_intermediate/train...        4\n",
       "2499  D:/FinalDphi/animal_dataset_intermediate/train...        4\n",
       "\n",
       "[2500 rows x 2 columns]"
      ]
     },
     "execution_count": 172,
     "metadata": {},
     "output_type": "execute_result"
    }
   ],
   "source": [
    "foldernames = os.listdir('D:/FinalDphi/animal_dataset_intermediate/train')\n",
    "categories = []\n",
    "files = []\n",
    "i = 0\n",
    "for k, folder in enumerate(foldernames):\n",
    "    filenames = os.listdir(\"D:/FinalDphi/animal_dataset_intermediate/train/\" + folder);\n",
    "    for file in filenames:\n",
    "        files.append(\"D:/FinalDphi/animal_dataset_intermediate/train/\" + folder + \"/\" + file)\n",
    "        categories.append(k)\n",
    "        \n",
    "df = pd.DataFrame({\n",
    "    'filename': files,\n",
    "    'category': categories\n",
    "})\n",
    "train_df = pd.DataFrame(columns=['filename', 'category'])\n",
    "for i in range(10):\n",
    "    train_df = train_df.append(df[df.category == i].iloc[:500,:])\n",
    "\n",
    "train_df.head()\n",
    "train_df = train_df.reset_index(drop=True)\n",
    "train_df"
   ]
  },
  {
   "cell_type": "code",
   "execution_count": 173,
   "metadata": {},
   "outputs": [
    {
     "data": {
      "text/plain": [
       "8196"
      ]
     },
     "execution_count": 173,
     "metadata": {},
     "output_type": "execute_result"
    }
   ],
   "source": [
    "len(df)"
   ]
  },
  {
   "cell_type": "code",
   "execution_count": 174,
   "metadata": {},
   "outputs": [
    {
     "data": {
      "text/html": [
       "<div>\n",
       "<style scoped>\n",
       "    .dataframe tbody tr th:only-of-type {\n",
       "        vertical-align: middle;\n",
       "    }\n",
       "\n",
       "    .dataframe tbody tr th {\n",
       "        vertical-align: top;\n",
       "    }\n",
       "\n",
       "    .dataframe thead th {\n",
       "        text-align: right;\n",
       "    }\n",
       "</style>\n",
       "<table border=\"1\" class=\"dataframe\">\n",
       "  <thead>\n",
       "    <tr style=\"text-align: right;\">\n",
       "      <th></th>\n",
       "      <th>filename</th>\n",
       "      <th>category</th>\n",
       "    </tr>\n",
       "  </thead>\n",
       "  <tbody>\n",
       "  </tbody>\n",
       "</table>\n",
       "</div>"
      ],
      "text/plain": [
       "Empty DataFrame\n",
       "Columns: [filename, category]\n",
       "Index: []"
      ]
     },
     "execution_count": 174,
     "metadata": {},
     "output_type": "execute_result"
    }
   ],
   "source": [
    "df[df['filename']=='D:/FinalDphi/animal_dataset_intermediate/train/elefante_train/filenames_elefante_train.txt']"
   ]
  },
  {
   "cell_type": "code",
   "execution_count": 175,
   "metadata": {},
   "outputs": [],
   "source": [
    "x = df['filename']\n",
    "y = df['category']\n",
    "\n",
    "x, y = shuffle(x, y, random_state=8)"
   ]
  },
  {
   "cell_type": "markdown",
   "metadata": {},
   "source": [
    "### Task 8: Pre-procesing Optimization Techniques\n",
    "I have previously talked about decay and applying dropout for optimization. This time i used image centering as well. At the core of it, image centering is just a scaling technique but it lead to better results. The process simply involves calculating the mean pixel value across the entire training dataset, then subtract it from each image.  The mean pixel value for centered images will be zero.\n",
    "\n",
    "I used TQDM just to ensure that the process was working well. it is a progress bar library with good support for nested loops and Jupyter/IPython notebooks."
   ]
  },
  {
   "cell_type": "code",
   "execution_count": 176,
   "metadata": {
    "scrolled": false
   },
   "outputs": [
    {
     "name": "stderr",
     "output_type": "stream",
     "text": [
      "C:\\Users\\Predator\\anaconda3\\envs\\tf_env\\lib\\site-packages\\ipykernel_launcher.py:15: TqdmDeprecationWarning: This function will be removed in tqdm==5.0.0\n",
      "Please use `tqdm.notebook.tqdm` instead of `tqdm.tqdm_notebook`\n",
      "  from ipykernel import kernelapp as app\n"
     ]
    },
    {
     "data": {
      "application/vnd.jupyter.widget-view+json": {
       "model_id": "927f1c40665c4467b632de30b4adca79",
       "version_major": 2,
       "version_minor": 0
      },
      "text/plain": [
       "HBox(children=(FloatProgress(value=0.0, max=8196.0), HTML(value='')))"
      ]
     },
     "metadata": {},
     "output_type": "display_data"
    },
    {
     "name": "stdout",
     "output_type": "stream",
     "text": [
      "\n"
     ]
    }
   ],
   "source": [
    "def centering_image(img):\n",
    "    size = [256,256]\n",
    "    \n",
    "    img_size = img.shape[:2]\n",
    "    \n",
    "    # centering\n",
    "    row = (size[1] - img_size[0]) // 2\n",
    "    col = (size[0] - img_size[1]) // 2\n",
    "    resized = np.zeros(list(size) + [img.shape[2]], dtype=np.uint8)\n",
    "    resized[row:(row + img.shape[0]), col:(col + img.shape[1])] = img\n",
    "\n",
    "    return resized\n",
    "\n",
    "images = []\n",
    "with tqdm(total=len(df)) as pbar:\n",
    "    for i, file_path in enumerate(df.filename.values):\n",
    "        #read image\n",
    "        img = cv2.imread(file_path)\n",
    "        img = cv2.cvtColor(img, cv2.COLOR_BGR2RGB)\n",
    "        \n",
    "#resize\n",
    "        if(img.shape[0] > img.shape[1]):\n",
    "            tile_size = (int(img.shape[1]*256/img.shape[0]),256)\n",
    "        else:\n",
    "            tile_size = (256, int(img.shape[0]*256/img.shape[1]))\n",
    "\n",
    "        #centering\n",
    "        img = centering_image(cv2.resize(img, dsize=tile_size))\n",
    "\n",
    "        #out put 224*224px \n",
    "        img = img[16:240, 16:240]\n",
    "        images.append(img)\n",
    "        pbar.update(1)\n",
    "\n",
    "images = np.array(images)        "
   ]
  },
  {
   "cell_type": "markdown",
   "metadata": {},
   "source": [
    "### Training Dataset Final"
   ]
  },
  {
   "cell_type": "markdown",
   "metadata": {},
   "source": [
    "I decided to increase the dimenstions to 224 as increasing dimenstions was improving the result. The code snipped bellow just shuffles the data and splits into train and validation sets(80:20). \n",
    "###### It also converts data into train and validations splits for training\n",
    "###### Further scaling is done through dividing it by 255 and finally it has been converted into a numpy array of float for training."
   ]
  },
  {
   "cell_type": "code",
   "execution_count": 180,
   "metadata": {},
   "outputs": [
    {
     "name": "stdout",
     "output_type": "stream",
     "text": [
      "x_train (6557, 224, 224, 3)\n",
      "y_train (6557,)\n",
      "x_test (1639, 224, 224, 3)\n",
      "y_test (1639,)\n"
     ]
    }
   ],
   "source": [
    "data_num = len(y)\n",
    "random_index = np.random.permutation(data_num)\n",
    "x_shuffle = []\n",
    "y_shuffle = []\n",
    "for i in range(data_num):\n",
    "    x_shuffle.append(images[random_index[i]])\n",
    "    y_shuffle.append(y[random_index[i]])\n",
    "    \n",
    "x = np.array(x_shuffle) \n",
    "y = np.array(y_shuffle)\n",
    "val_split_num = int(round(0.2*len(y)))\n",
    "x_train = x[val_split_num:]\n",
    "y_train = y[val_split_num:]\n",
    "x_test = x[:val_split_num]\n",
    "y_test = y[:val_split_num]\n",
    "\n",
    "print('x_train', x_train.shape)\n",
    "print('y_train', y_train.shape)\n",
    "print('x_test', x_test.shape)\n",
    "print('y_test', y_test.shape)\n",
    "y_train = to_categorical(y_train)\n",
    "y_test = to_categorical(y_test)\n",
    "\n",
    "x_train = x_train.astype('float32')\n",
    "x_test = x_test.astype('float32')\n",
    "x_train /= 255\n",
    "x_test /= 255\n",
    "\n",
    "img_rows, img_cols, img_channel = 224, 224, 3\n",
    "name_animal = []\n",
    "for i in range(5):\n",
    "    path = df[df.category == i].values[2]\n",
    "    if path[0].split('/')[-2] == 'elefante':\n",
    "        name_animal.append('elefante')\n",
    "    elif path[0].split('/')[-2] == 'farfalla':\n",
    "        name_animal.append('farfalla')\n",
    "    elif path[0].split('/')[-2] == 'mucca':\n",
    "        name_animal.append('mucca')\n",
    "    elif path[0].split('/')[-2] == 'pecora':\n",
    "        name_animal.append('pecora')\n",
    "    elif path[0].split('/')[-2] == 'scoiattolo':\n",
    "        name_animal.append('scoiattolo')"
   ]
  },
  {
   "cell_type": "markdown",
   "metadata": {},
   "source": [
    "### Task 4: Model Summary, Loss Function and Optimizer \n",
    "The base of the modell= is vgg.16 and then using sequential apu two dense layer have been added with the final layer having 5 units to mark the 5 categories. The use of relu and softmax has been discused previously. I changed the optimizer to SGD. It can be regarded as a stochastic approximation of gradient descent optimization, since it replaces the actual gradient by an estimate thereof. In simpler terms, we define a momentum, which is a moving average of our gradients. I found this approach very flexible.\n",
    "\n",
    "Loss function being used here is called binary crossentropy. It is generally used for classification as it uses probability distribution to give us a 1 or 0 value. \n",
    "###### I did not use categorical crossentropy as labels are already one-hot encoded."
   ]
  },
  {
   "cell_type": "code",
   "execution_count": 183,
   "metadata": {},
   "outputs": [
    {
     "name": "stdout",
     "output_type": "stream",
     "text": [
      "Model: \"functional_3\"\n",
      "_________________________________________________________________\n",
      "Layer (type)                 Output Shape              Param #   \n",
      "=================================================================\n",
      "input_4 (InputLayer)         [(None, 224, 224, 3)]     0         \n",
      "_________________________________________________________________\n",
      "block1_conv1 (Conv2D)        (None, 224, 224, 64)      1792      \n",
      "_________________________________________________________________\n",
      "block1_conv2 (Conv2D)        (None, 224, 224, 64)      36928     \n",
      "_________________________________________________________________\n",
      "block1_pool (MaxPooling2D)   (None, 112, 112, 64)      0         \n",
      "_________________________________________________________________\n",
      "block2_conv1 (Conv2D)        (None, 112, 112, 128)     73856     \n",
      "_________________________________________________________________\n",
      "block2_conv2 (Conv2D)        (None, 112, 112, 128)     147584    \n",
      "_________________________________________________________________\n",
      "block2_pool (MaxPooling2D)   (None, 56, 56, 128)       0         \n",
      "_________________________________________________________________\n",
      "block3_conv1 (Conv2D)        (None, 56, 56, 256)       295168    \n",
      "_________________________________________________________________\n",
      "block3_conv2 (Conv2D)        (None, 56, 56, 256)       590080    \n",
      "_________________________________________________________________\n",
      "block3_conv3 (Conv2D)        (None, 56, 56, 256)       590080    \n",
      "_________________________________________________________________\n",
      "block3_pool (MaxPooling2D)   (None, 28, 28, 256)       0         \n",
      "_________________________________________________________________\n",
      "block4_conv1 (Conv2D)        (None, 28, 28, 512)       1180160   \n",
      "_________________________________________________________________\n",
      "block4_conv2 (Conv2D)        (None, 28, 28, 512)       2359808   \n",
      "_________________________________________________________________\n",
      "block4_conv3 (Conv2D)        (None, 28, 28, 512)       2359808   \n",
      "_________________________________________________________________\n",
      "block4_pool (MaxPooling2D)   (None, 14, 14, 512)       0         \n",
      "_________________________________________________________________\n",
      "block5_conv1 (Conv2D)        (None, 14, 14, 512)       2359808   \n",
      "_________________________________________________________________\n",
      "block5_conv2 (Conv2D)        (None, 14, 14, 512)       2359808   \n",
      "_________________________________________________________________\n",
      "block5_conv3 (Conv2D)        (None, 14, 14, 512)       2359808   \n",
      "_________________________________________________________________\n",
      "block5_pool (MaxPooling2D)   (None, 7, 7, 512)         0         \n",
      "_________________________________________________________________\n",
      "sequential_6 (Sequential)    (None, 5)                 6424069   \n",
      "=================================================================\n",
      "Total params: 21,138,757\n",
      "Trainable params: 21,138,757\n",
      "Non-trainable params: 0\n",
      "_________________________________________________________________\n"
     ]
    }
   ],
   "source": [
    "base_model = applications.VGG16(weights='imagenet', include_top=False, input_shape=(224, 224, 3))\n",
    "add_model = Sequential()\n",
    "add_model.add(Flatten(input_shape=base_model.output_shape[1:]))\n",
    "add_model.add(Dense(256, activation='relu'))\n",
    "add_model.add(Dense(5, activation='softmax'))\n",
    "\n",
    "model = Model(inputs=base_model.input, outputs=add_model(base_model.output))\n",
    "model.compile(loss='binary_crossentropy', optimizer=optimizers.SGD(lr=1e-4, momentum=0.9),\n",
    "              metrics=['accuracy'])\n",
    "\n",
    "model.summary()"
   ]
  },
  {
   "cell_type": "markdown",
   "metadata": {},
   "source": [
    "### Optimization through image augmentation\n",
    "Augmentation is just varying our current dataset in diffent formats( like flipping/moving) and appenfing it to the dataset to increase the dataset and improve its perfirmance)"
   ]
  },
  {
   "cell_type": "code",
   "execution_count": 181,
   "metadata": {},
   "outputs": [],
   "source": [
    "batch_size = 32\n",
    "epochs = 50\n",
    "\n",
    "train_datagen = ImageDataGenerator(\n",
    "        rotation_range=30, \n",
    "        width_shift_range=0.1,\n",
    "        height_shift_range=0.1, \n",
    "        horizontal_flip=True)\n",
    "train_datagen.fit(x_train)"
   ]
  },
  {
   "cell_type": "markdown",
   "metadata": {},
   "source": [
    "I learned about checkpoints. Checkpoint moniters the validation accuracy( as validation is more reliable and accuracy is our metric) and stops the model once we reach an optimal point after which the model starts to overfit. \n",
    "###### My model ran for the full 30 epochs so I increased it to 50 to get a converging value."
   ]
  },
  {
   "cell_type": "code",
   "execution_count": 184,
   "metadata": {
    "scrolled": false
   },
   "outputs": [
    {
     "name": "stdout",
     "output_type": "stream",
     "text": [
      "Epoch 1/50\n",
      "  2/204 [..............................] - ETA: 57s - loss: 0.5064 - accuracy: 0.2031WARNING:tensorflow:Callbacks method `on_train_batch_end` is slow compared to the batch time (batch time: 0.1656s vs `on_train_batch_end` time: 0.3820s). Check your callbacks.\n",
      "204/204 [==============================] - ETA: 0s - loss: 0.4061 - accuracy: 0.4996WARNING:tensorflow:From C:\\Users\\Predator\\anaconda3\\envs\\tf_env\\lib\\site-packages\\tensorflow\\python\\training\\tracking\\tracking.py:111: Model.state_updates (from tensorflow.python.keras.engine.training) is deprecated and will be removed in a future version.\n",
      "Instructions for updating:\n",
      "This property should not be used in TensorFlow 2.0, as updates are applied automatically.\n",
      "WARNING:tensorflow:From C:\\Users\\Predator\\anaconda3\\envs\\tf_env\\lib\\site-packages\\tensorflow\\python\\training\\tracking\\tracking.py:111: Layer.updates (from tensorflow.python.keras.engine.base_layer) is deprecated and will be removed in a future version.\n",
      "Instructions for updating:\n",
      "This property should not be used in TensorFlow 2.0, as updates are applied automatically.\n",
      "INFO:tensorflow:Assets written to: VGG16-transferlearning.model\\assets\n",
      "204/204 [==============================] - 131s 645ms/step - loss: 0.4061 - accuracy: 0.4996 - val_loss: 0.2785 - val_accuracy: 0.6986\n",
      "Epoch 2/50\n",
      "204/204 [==============================] - ETA: 0s - loss: 0.2330 - accuracy: 0.7413INFO:tensorflow:Assets written to: VGG16-transferlearning.model\\assets\n",
      "204/204 [==============================] - 130s 637ms/step - loss: 0.2330 - accuracy: 0.7413 - val_loss: 0.1847 - val_accuracy: 0.7974\n",
      "Epoch 3/50\n",
      "204/204 [==============================] - ETA: 0s - loss: 0.1694 - accuracy: 0.8179INFO:tensorflow:Assets written to: VGG16-transferlearning.model\\assets\n",
      "204/204 [==============================] - 129s 630ms/step - loss: 0.1694 - accuracy: 0.8179 - val_loss: 0.1395 - val_accuracy: 0.8505\n",
      "Epoch 4/50\n",
      "204/204 [==============================] - ETA: 0s - loss: 0.1296 - accuracy: 0.8625INFO:tensorflow:Assets written to: VGG16-transferlearning.model\\assets\n",
      "204/204 [==============================] - 130s 637ms/step - loss: 0.1296 - accuracy: 0.8625 - val_loss: 0.1199 - val_accuracy: 0.8719\n",
      "Epoch 5/50\n",
      "204/204 [==============================] - ETA: 0s - loss: 0.1138 - accuracy: 0.8846INFO:tensorflow:Assets written to: VGG16-transferlearning.model\\assets\n",
      "204/204 [==============================] - 135s 661ms/step - loss: 0.1138 - accuracy: 0.8846 - val_loss: 0.0921 - val_accuracy: 0.9060\n",
      "Epoch 6/50\n",
      "204/204 [==============================] - ETA: 0s - loss: 0.0965 - accuracy: 0.9045INFO:tensorflow:Assets written to: VGG16-transferlearning.model\\assets\n",
      "204/204 [==============================] - 136s 669ms/step - loss: 0.0965 - accuracy: 0.9045 - val_loss: 0.0848 - val_accuracy: 0.9158\n",
      "Epoch 7/50\n",
      "204/204 [==============================] - ETA: 0s - loss: 0.0869 - accuracy: 0.9146INFO:tensorflow:Assets written to: VGG16-transferlearning.model\\assets\n",
      "204/204 [==============================] - 136s 666ms/step - loss: 0.0869 - accuracy: 0.9146 - val_loss: 0.0904 - val_accuracy: 0.9097\n",
      "Epoch 8/50\n",
      "204/204 [==============================] - ETA: 0s - loss: 0.0802 - accuracy: 0.9212INFO:tensorflow:Assets written to: VGG16-transferlearning.model\\assets\n",
      "204/204 [==============================] - 137s 671ms/step - loss: 0.0802 - accuracy: 0.9212 - val_loss: 0.0732 - val_accuracy: 0.9256\n",
      "Epoch 9/50\n",
      "204/204 [==============================] - ETA: 0s - loss: 0.0742 - accuracy: 0.9267INFO:tensorflow:Assets written to: VGG16-transferlearning.model\\assets\n",
      "204/204 [==============================] - 134s 655ms/step - loss: 0.0742 - accuracy: 0.9267 - val_loss: 0.0806 - val_accuracy: 0.9207\n",
      "Epoch 10/50\n",
      "204/204 [==============================] - ETA: 0s - loss: 0.0676 - accuracy: 0.9347INFO:tensorflow:Assets written to: VGG16-transferlearning.model\\assets\n",
      "204/204 [==============================] - 141s 690ms/step - loss: 0.0676 - accuracy: 0.9347 - val_loss: 0.0645 - val_accuracy: 0.9317\n",
      "Epoch 11/50\n",
      "204/204 [==============================] - ETA: 0s - loss: 0.0626 - accuracy: 0.9418INFO:tensorflow:Assets written to: VGG16-transferlearning.model\\assets\n",
      "204/204 [==============================] - 136s 667ms/step - loss: 0.0626 - accuracy: 0.9418 - val_loss: 0.0622 - val_accuracy: 0.9329\n",
      "Epoch 12/50\n",
      "204/204 [==============================] - ETA: 0s - loss: 0.0596 - accuracy: 0.9439INFO:tensorflow:Assets written to: VGG16-transferlearning.model\\assets\n",
      "204/204 [==============================] - 138s 675ms/step - loss: 0.0596 - accuracy: 0.9439 - val_loss: 0.0597 - val_accuracy: 0.9384\n",
      "Epoch 13/50\n",
      "204/204 [==============================] - ETA: 0s - loss: 0.0542 - accuracy: 0.9474INFO:tensorflow:Assets written to: VGG16-transferlearning.model\\assets\n",
      "204/204 [==============================] - 135s 664ms/step - loss: 0.0542 - accuracy: 0.9474 - val_loss: 0.0600 - val_accuracy: 0.9347\n",
      "Epoch 14/50\n",
      "204/204 [==============================] - ETA: 0s - loss: 0.0518 - accuracy: 0.9514INFO:tensorflow:Assets written to: VGG16-transferlearning.model\\assets\n",
      "204/204 [==============================] - 131s 642ms/step - loss: 0.0518 - accuracy: 0.9514 - val_loss: 0.0732 - val_accuracy: 0.9274\n",
      "Epoch 15/50\n",
      "204/204 [==============================] - ETA: 0s - loss: 0.0512 - accuracy: 0.9479INFO:tensorflow:Assets written to: VGG16-transferlearning.model\\assets\n",
      "204/204 [==============================] - 133s 650ms/step - loss: 0.0512 - accuracy: 0.9479 - val_loss: 0.0494 - val_accuracy: 0.9518\n",
      "Epoch 16/50\n",
      "204/204 [==============================] - ETA: 0s - loss: 0.0465 - accuracy: 0.9572INFO:tensorflow:Assets written to: VGG16-transferlearning.model\\assets\n",
      "204/204 [==============================] - 132s 646ms/step - loss: 0.0465 - accuracy: 0.9572 - val_loss: 0.0497 - val_accuracy: 0.9457\n",
      "Epoch 17/50\n",
      "204/204 [==============================] - ETA: 0s - loss: 0.0441 - accuracy: 0.9563INFO:tensorflow:Assets written to: VGG16-transferlearning.model\\assets\n",
      "204/204 [==============================] - 130s 639ms/step - loss: 0.0441 - accuracy: 0.9563 - val_loss: 0.0537 - val_accuracy: 0.9451\n",
      "Epoch 18/50\n",
      "204/204 [==============================] - ETA: 0s - loss: 0.0447 - accuracy: 0.9571INFO:tensorflow:Assets written to: VGG16-transferlearning.model\\assets\n",
      "204/204 [==============================] - 129s 633ms/step - loss: 0.0447 - accuracy: 0.9571 - val_loss: 0.0490 - val_accuracy: 0.9469\n",
      "Epoch 19/50\n",
      "204/204 [==============================] - ETA: 0s - loss: 0.0377 - accuracy: 0.9658INFO:tensorflow:Assets written to: VGG16-transferlearning.model\\assets\n",
      "204/204 [==============================] - 128s 628ms/step - loss: 0.0377 - accuracy: 0.9658 - val_loss: 0.0467 - val_accuracy: 0.9500\n",
      "Epoch 20/50\n",
      "204/204 [==============================] - ETA: 0s - loss: 0.0380 - accuracy: 0.9652INFO:tensorflow:Assets written to: VGG16-transferlearning.model\\assets\n",
      "204/204 [==============================] - 130s 637ms/step - loss: 0.0380 - accuracy: 0.9652 - val_loss: 0.0563 - val_accuracy: 0.9420\n",
      "Epoch 21/50\n",
      "204/204 [==============================] - ETA: 0s - loss: 0.0377 - accuracy: 0.9654INFO:tensorflow:Assets written to: VGG16-transferlearning.model\\assets\n",
      "204/204 [==============================] - 129s 634ms/step - loss: 0.0377 - accuracy: 0.9654 - val_loss: 0.0502 - val_accuracy: 0.9481\n",
      "Epoch 22/50\n",
      "204/204 [==============================] - ETA: 0s - loss: 0.0357 - accuracy: 0.9686INFO:tensorflow:Assets written to: VGG16-transferlearning.model\\assets\n",
      "204/204 [==============================] - 127s 624ms/step - loss: 0.0357 - accuracy: 0.9686 - val_loss: 0.0449 - val_accuracy: 0.9524\n",
      "Epoch 23/50\n",
      "204/204 [==============================] - ETA: 0s - loss: 0.0340 - accuracy: 0.9683INFO:tensorflow:Assets written to: VGG16-transferlearning.model\\assets\n",
      "204/204 [==============================] - 129s 631ms/step - loss: 0.0340 - accuracy: 0.9683 - val_loss: 0.0468 - val_accuracy: 0.9512\n",
      "Epoch 24/50\n",
      "204/204 [==============================] - ETA: 0s - loss: 0.0326 - accuracy: 0.9713INFO:tensorflow:Assets written to: VGG16-transferlearning.model\\assets\n",
      "204/204 [==============================] - 127s 625ms/step - loss: 0.0326 - accuracy: 0.9713 - val_loss: 0.0501 - val_accuracy: 0.9530\n"
     ]
    },
    {
     "name": "stdout",
     "output_type": "stream",
     "text": [
      "Epoch 25/50\n",
      "204/204 [==============================] - ETA: 0s - loss: 0.0313 - accuracy: 0.9718INFO:tensorflow:Assets written to: VGG16-transferlearning.model\\assets\n",
      "204/204 [==============================] - 129s 633ms/step - loss: 0.0313 - accuracy: 0.9718 - val_loss: 0.0530 - val_accuracy: 0.9475\n",
      "Epoch 26/50\n",
      "204/204 [==============================] - ETA: 0s - loss: 0.0316 - accuracy: 0.9693INFO:tensorflow:Assets written to: VGG16-transferlearning.model\\assets\n",
      "204/204 [==============================] - 129s 631ms/step - loss: 0.0316 - accuracy: 0.9693 - val_loss: 0.0500 - val_accuracy: 0.9494\n",
      "Epoch 27/50\n",
      "204/204 [==============================] - ETA: 0s - loss: 0.0275 - accuracy: 0.9769INFO:tensorflow:Assets written to: VGG16-transferlearning.model\\assets\n",
      "204/204 [==============================] - 128s 627ms/step - loss: 0.0275 - accuracy: 0.9769 - val_loss: 0.0487 - val_accuracy: 0.9536\n",
      "Epoch 28/50\n",
      "204/204 [==============================] - ETA: 0s - loss: 0.0249 - accuracy: 0.9770INFO:tensorflow:Assets written to: VGG16-transferlearning.model\\assets\n",
      "204/204 [==============================] - 129s 634ms/step - loss: 0.0249 - accuracy: 0.9770 - val_loss: 0.0503 - val_accuracy: 0.9530\n",
      "Epoch 29/50\n",
      "204/204 [==============================] - ETA: 0s - loss: 0.0260 - accuracy: 0.9781INFO:tensorflow:Assets written to: VGG16-transferlearning.model\\assets\n",
      "204/204 [==============================] - 130s 636ms/step - loss: 0.0260 - accuracy: 0.9781 - val_loss: 0.0461 - val_accuracy: 0.9542\n",
      "Epoch 30/50\n",
      "204/204 [==============================] - ETA: 0s - loss: 0.0235 - accuracy: 0.9808INFO:tensorflow:Assets written to: VGG16-transferlearning.model\\assets\n",
      "204/204 [==============================] - 128s 626ms/step - loss: 0.0235 - accuracy: 0.9808 - val_loss: 0.0445 - val_accuracy: 0.9573\n",
      "Epoch 31/50\n",
      "204/204 [==============================] - ETA: 0s - loss: 0.0248 - accuracy: 0.9785INFO:tensorflow:Assets written to: VGG16-transferlearning.model\\assets\n",
      "204/204 [==============================] - 130s 636ms/step - loss: 0.0248 - accuracy: 0.9785 - val_loss: 0.0536 - val_accuracy: 0.9500\n",
      "Epoch 32/50\n",
      "204/204 [==============================] - ETA: 0s - loss: 0.0265 - accuracy: 0.9770INFO:tensorflow:Assets written to: VGG16-transferlearning.model\\assets\n",
      "204/204 [==============================] - 128s 628ms/step - loss: 0.0265 - accuracy: 0.9770 - val_loss: 0.0428 - val_accuracy: 0.9585\n",
      "Epoch 33/50\n",
      "204/204 [==============================] - ETA: 0s - loss: 0.0226 - accuracy: 0.9810INFO:tensorflow:Assets written to: VGG16-transferlearning.model\\assets\n",
      "204/204 [==============================] - 131s 641ms/step - loss: 0.0226 - accuracy: 0.9810 - val_loss: 0.0444 - val_accuracy: 0.9573\n",
      "Epoch 34/50\n",
      "204/204 [==============================] - ETA: 0s - loss: 0.0218 - accuracy: 0.9811INFO:tensorflow:Assets written to: VGG16-transferlearning.model\\assets\n",
      "204/204 [==============================] - 130s 640ms/step - loss: 0.0218 - accuracy: 0.9811 - val_loss: 0.0452 - val_accuracy: 0.9555\n",
      "Epoch 35/50\n",
      "204/204 [==============================] - ETA: 0s - loss: 0.0187 - accuracy: 0.9838INFO:tensorflow:Assets written to: VGG16-transferlearning.model\\assets\n",
      "204/204 [==============================] - 129s 635ms/step - loss: 0.0187 - accuracy: 0.9838 - val_loss: 0.0430 - val_accuracy: 0.9616\n",
      "Epoch 36/50\n",
      "204/204 [==============================] - ETA: 0s - loss: 0.0187 - accuracy: 0.9828INFO:tensorflow:Assets written to: VGG16-transferlearning.model\\assets\n",
      "204/204 [==============================] - 129s 631ms/step - loss: 0.0187 - accuracy: 0.9828 - val_loss: 0.0493 - val_accuracy: 0.9561\n",
      "Epoch 37/50\n",
      "204/204 [==============================] - ETA: 0s - loss: 0.0187 - accuracy: 0.9839INFO:tensorflow:Assets written to: VGG16-transferlearning.model\\assets\n",
      "204/204 [==============================] - 131s 642ms/step - loss: 0.0187 - accuracy: 0.9839 - val_loss: 0.0462 - val_accuracy: 0.9573\n",
      "Epoch 38/50\n",
      "204/204 [==============================] - ETA: 0s - loss: 0.0171 - accuracy: 0.9847INFO:tensorflow:Assets written to: VGG16-transferlearning.model\\assets\n",
      "204/204 [==============================] - 128s 627ms/step - loss: 0.0171 - accuracy: 0.9847 - val_loss: 0.0446 - val_accuracy: 0.9634\n",
      "Epoch 39/50\n",
      "204/204 [==============================] - ETA: 0s - loss: 0.0189 - accuracy: 0.9833INFO:tensorflow:Assets written to: VGG16-transferlearning.model\\assets\n",
      "204/204 [==============================] - 129s 634ms/step - loss: 0.0189 - accuracy: 0.9833 - val_loss: 0.0469 - val_accuracy: 0.9585\n",
      "Epoch 40/50\n",
      "204/204 [==============================] - ETA: 0s - loss: 0.0172 - accuracy: 0.9851INFO:tensorflow:Assets written to: VGG16-transferlearning.model\\assets\n",
      "204/204 [==============================] - 133s 650ms/step - loss: 0.0172 - accuracy: 0.9851 - val_loss: 0.0604 - val_accuracy: 0.9469\n",
      "Epoch 41/50\n",
      "204/204 [==============================] - ETA: 0s - loss: 0.0192 - accuracy: 0.9828INFO:tensorflow:Assets written to: VGG16-transferlearning.model\\assets\n",
      "204/204 [==============================] - 130s 636ms/step - loss: 0.0192 - accuracy: 0.9828 - val_loss: 0.0460 - val_accuracy: 0.9610\n",
      "Epoch 42/50\n",
      "204/204 [==============================] - ETA: 0s - loss: 0.0147 - accuracy: 0.9870INFO:tensorflow:Assets written to: VGG16-transferlearning.model\\assets\n",
      "204/204 [==============================] - 131s 641ms/step - loss: 0.0147 - accuracy: 0.9870 - val_loss: 0.0505 - val_accuracy: 0.9500\n",
      "Epoch 43/50\n",
      "204/204 [==============================] - ETA: 0s - loss: 0.0141 - accuracy: 0.9877INFO:tensorflow:Assets written to: VGG16-transferlearning.model\\assets\n",
      "204/204 [==============================] - 135s 661ms/step - loss: 0.0141 - accuracy: 0.9877 - val_loss: 0.0483 - val_accuracy: 0.9616\n",
      "Epoch 44/50\n",
      "204/204 [==============================] - ETA: 0s - loss: 0.0154 - accuracy: 0.9880INFO:tensorflow:Assets written to: VGG16-transferlearning.model\\assets\n",
      "204/204 [==============================] - 129s 634ms/step - loss: 0.0154 - accuracy: 0.9880 - val_loss: 0.0453 - val_accuracy: 0.9610\n",
      "Epoch 45/50\n",
      "204/204 [==============================] - ETA: 0s - loss: 0.0142 - accuracy: 0.9879INFO:tensorflow:Assets written to: VGG16-transferlearning.model\\assets\n",
      "204/204 [==============================] - 131s 644ms/step - loss: 0.0142 - accuracy: 0.9879 - val_loss: 0.0463 - val_accuracy: 0.9603\n",
      "Epoch 46/50\n",
      "204/204 [==============================] - ETA: 0s - loss: 0.0128 - accuracy: 0.9897INFO:tensorflow:Assets written to: VGG16-transferlearning.model\\assets\n",
      "204/204 [==============================] - 131s 642ms/step - loss: 0.0128 - accuracy: 0.9897 - val_loss: 0.0631 - val_accuracy: 0.9506\n",
      "Epoch 47/50\n",
      "204/204 [==============================] - ETA: 0s - loss: 0.0124 - accuracy: 0.9893INFO:tensorflow:Assets written to: VGG16-transferlearning.model\\assets\n",
      "204/204 [==============================] - 131s 641ms/step - loss: 0.0124 - accuracy: 0.9893 - val_loss: 0.0496 - val_accuracy: 0.9585\n",
      "Epoch 48/50\n",
      "204/204 [==============================] - ETA: 0s - loss: 0.0128 - accuracy: 0.9888INFO:tensorflow:Assets written to: VGG16-transferlearning.model\\assets\n",
      "204/204 [==============================] - 133s 654ms/step - loss: 0.0128 - accuracy: 0.9888 - val_loss: 0.0511 - val_accuracy: 0.9555\n",
      "Epoch 49/50\n",
      "204/204 [==============================] - ETA: 0s - loss: 0.0134 - accuracy: 0.9893INFO:tensorflow:Assets written to: VGG16-transferlearning.model\\assets\n",
      "204/204 [==============================] - 131s 640ms/step - loss: 0.0134 - accuracy: 0.9893 - val_loss: 0.0428 - val_accuracy: 0.9603\n",
      "Epoch 50/50\n",
      "204/204 [==============================] - ETA: 0s - loss: 0.0112 - accuracy: 0.9903INFO:tensorflow:Assets written to: VGG16-transferlearning.model\\assets\n",
      "204/204 [==============================] - 132s 647ms/step - loss: 0.0112 - accuracy: 0.9903 - val_loss: 0.0496 - val_accuracy: 0.9591\n"
     ]
    }
   ],
   "source": [
    "history = model.fit_generator(\n",
    "    train_datagen.flow(x_train, y_train, batch_size=batch_size),\n",
    "    steps_per_epoch=x_train.shape[0] // batch_size,\n",
    "    epochs=epochs,\n",
    "    validation_data=(x_test, y_test),\n",
    "    callbacks=[ModelCheckpoint('VGG16-transferlearning.model', monitor='val_acc')]\n",
    ")"
   ]
  },
  {
   "cell_type": "markdown",
   "metadata": {},
   "source": [
    "##### Visualization"
   ]
  },
  {
   "cell_type": "code",
   "execution_count": 185,
   "metadata": {},
   "outputs": [
    {
     "data": {
      "text/plain": [
       "[<matplotlib.lines.Line2D at 0x272ca993ec8>]"
      ]
     },
     "execution_count": 185,
     "metadata": {},
     "output_type": "execute_result"
    },
    {
     "data": {
      "image/png": "[encoded data removed]",
      "text/plain": [
       "<Figure size 432x288 with 1 Axes>"
      ]
     },
     "metadata": {
      "needs_background": "light"
     },
     "output_type": "display_data"
    }
   ],
   "source": [
    "import matplotlib.pyplot as plt\n",
    "%matplotlib inline\n",
    "plt.plot(history.history['loss'])\n",
    "plt.plot(history.history['val_loss'])"
   ]
  },
  {
   "cell_type": "code",
   "execution_count": 187,
   "metadata": {},
   "outputs": [
    {
     "name": "stdout",
     "output_type": "stream",
     "text": [
      "205/205 [==============================] - 34s 165ms/step - loss: 0.0065 - accuracy: 0.9942\n"
     ]
    },
    {
     "data": {
      "text/plain": [
       "[0.006494170054793358, 0.9942046403884888]"
      ]
     },
     "execution_count": 187,
     "metadata": {},
     "output_type": "execute_result"
    }
   ],
   "source": [
    "model.evaluate(x_train,y_train,batch_size=32)"
   ]
  },
  {
   "cell_type": "code",
   "execution_count": 188,
   "metadata": {},
   "outputs": [
    {
     "name": "stdout",
     "output_type": "stream",
     "text": [
      "52/52 [==============================] - 9s 165ms/step - loss: 0.0496 - accuracy: 0.9591\n"
     ]
    },
    {
     "data": {
      "text/plain": [
       "[0.04964476451277733, 0.9591214060783386]"
      ]
     },
     "execution_count": 188,
     "metadata": {},
     "output_type": "execute_result"
    }
   ],
   "source": [
    "model.evaluate(x_test,y_test,batch_size=32)"
   ]
  },
  {
   "cell_type": "code",
   "execution_count": 189,
   "metadata": {},
   "outputs": [],
   "source": [
    "model.save(\"D:/FinalDphi/model2.h5\")"
   ]
  },
  {
   "cell_type": "markdown",
   "metadata": {},
   "source": [
    "#### Predictions\n",
    "I was pretty Happy with the eavluations so I moved on to predictions.\n",
    "Using the same data Loading technique I was able to load the data in the desired format (mentioned in csv). I did the same preprocessing steps of centering and Rescaling the image."
   ]
  },
  {
   "cell_type": "code",
   "execution_count": 190,
   "metadata": {},
   "outputs": [],
   "source": [
    "test_data=pd.read_csv('D:/FinalDphi/animal_dataset_intermediate/Testing_set_animals.csv')"
   ]
  },
  {
   "cell_type": "code",
   "execution_count": 191,
   "metadata": {},
   "outputs": [
    {
     "data": {
      "text/html": [
       "<div>\n",
       "<style scoped>\n",
       "    .dataframe tbody tr th:only-of-type {\n",
       "        vertical-align: middle;\n",
       "    }\n",
       "\n",
       "    .dataframe tbody tr th {\n",
       "        vertical-align: top;\n",
       "    }\n",
       "\n",
       "    .dataframe thead th {\n",
       "        text-align: right;\n",
       "    }\n",
       "</style>\n",
       "<table border=\"1\" class=\"dataframe\">\n",
       "  <thead>\n",
       "    <tr style=\"text-align: right;\">\n",
       "      <th></th>\n",
       "      <th>filename</th>\n",
       "      <th>target</th>\n",
       "    </tr>\n",
       "  </thead>\n",
       "  <tbody>\n",
       "    <tr>\n",
       "      <th>0</th>\n",
       "      <td>e030b20928e90021d85a5854ee454296eb70e3c818b413...</td>\n",
       "      <td>NaN</td>\n",
       "    </tr>\n",
       "    <tr>\n",
       "      <th>1</th>\n",
       "      <td>e030b20929e90021d85a5854ee454296eb70e3c818b413...</td>\n",
       "      <td>NaN</td>\n",
       "    </tr>\n",
       "    <tr>\n",
       "      <th>2</th>\n",
       "      <td>e030b2092be90021d85a5854ee454296eb70e3c818b413...</td>\n",
       "      <td>NaN</td>\n",
       "    </tr>\n",
       "    <tr>\n",
       "      <th>3</th>\n",
       "      <td>e030b2092ce90021d85a5854ee454296eb70e3c818b413...</td>\n",
       "      <td>NaN</td>\n",
       "    </tr>\n",
       "    <tr>\n",
       "      <th>4</th>\n",
       "      <td>e030b2092de90021d85a5854ee454296eb70e3c818b413...</td>\n",
       "      <td>NaN</td>\n",
       "    </tr>\n",
       "    <tr>\n",
       "      <th>...</th>\n",
       "      <td>...</td>\n",
       "      <td>...</td>\n",
       "    </tr>\n",
       "    <tr>\n",
       "      <th>905</th>\n",
       "      <td>OIP-5ual0F5ZPZRdkGcj8uSH0AHaFj.jpeg</td>\n",
       "      <td>NaN</td>\n",
       "    </tr>\n",
       "    <tr>\n",
       "      <th>906</th>\n",
       "      <td>OIP-5VwIBS0B8SxZbUiAHBJg7gHaE8.jpeg</td>\n",
       "      <td>NaN</td>\n",
       "    </tr>\n",
       "    <tr>\n",
       "      <th>907</th>\n",
       "      <td>OIP-5WG0rHWAZYtu0utoZfuaAgHaFj.jpeg</td>\n",
       "      <td>NaN</td>\n",
       "    </tr>\n",
       "    <tr>\n",
       "      <th>908</th>\n",
       "      <td>OIP-5ZwfeYunG6CT2wEI7OjybQHaEo.jpeg</td>\n",
       "      <td>NaN</td>\n",
       "    </tr>\n",
       "    <tr>\n",
       "      <th>909</th>\n",
       "      <td>OIP-6A6SpPbz_YUI4ElMo-UhuQHaE8.jpeg</td>\n",
       "      <td>NaN</td>\n",
       "    </tr>\n",
       "  </tbody>\n",
       "</table>\n",
       "<p>910 rows × 2 columns</p>\n",
       "</div>"
      ],
      "text/plain": [
       "                                              filename  target\n",
       "0    e030b20928e90021d85a5854ee454296eb70e3c818b413...     NaN\n",
       "1    e030b20929e90021d85a5854ee454296eb70e3c818b413...     NaN\n",
       "2    e030b2092be90021d85a5854ee454296eb70e3c818b413...     NaN\n",
       "3    e030b2092ce90021d85a5854ee454296eb70e3c818b413...     NaN\n",
       "4    e030b2092de90021d85a5854ee454296eb70e3c818b413...     NaN\n",
       "..                                                 ...     ...\n",
       "905                OIP-5ual0F5ZPZRdkGcj8uSH0AHaFj.jpeg     NaN\n",
       "906                OIP-5VwIBS0B8SxZbUiAHBJg7gHaE8.jpeg     NaN\n",
       "907                OIP-5WG0rHWAZYtu0utoZfuaAgHaFj.jpeg     NaN\n",
       "908                OIP-5ZwfeYunG6CT2wEI7OjybQHaEo.jpeg     NaN\n",
       "909                OIP-6A6SpPbz_YUI4ElMo-UhuQHaE8.jpeg     NaN\n",
       "\n",
       "[910 rows x 2 columns]"
      ]
     },
     "execution_count": 191,
     "metadata": {},
     "output_type": "execute_result"
    }
   ],
   "source": [
    "test_data"
   ]
  },
  {
   "cell_type": "code",
   "execution_count": 198,
   "metadata": {},
   "outputs": [],
   "source": [
    "x_test = \"D:/FinalDphi/animal_dataset_intermediate/test/\"+test_data['filename']"
   ]
  },
  {
   "cell_type": "code",
   "execution_count": 199,
   "metadata": {},
   "outputs": [
    {
     "data": {
      "text/plain": [
       "0      D:/FinalDphi/animal_dataset_intermediate/test/...\n",
       "1      D:/FinalDphi/animal_dataset_intermediate/test/...\n",
       "2      D:/FinalDphi/animal_dataset_intermediate/test/...\n",
       "3      D:/FinalDphi/animal_dataset_intermediate/test/...\n",
       "4      D:/FinalDphi/animal_dataset_intermediate/test/...\n",
       "                             ...                        \n",
       "905    D:/FinalDphi/animal_dataset_intermediate/test/...\n",
       "906    D:/FinalDphi/animal_dataset_intermediate/test/...\n",
       "907    D:/FinalDphi/animal_dataset_intermediate/test/...\n",
       "908    D:/FinalDphi/animal_dataset_intermediate/test/...\n",
       "909    D:/FinalDphi/animal_dataset_intermediate/test/...\n",
       "Name: filename, Length: 910, dtype: object"
      ]
     },
     "execution_count": 199,
     "metadata": {},
     "output_type": "execute_result"
    }
   ],
   "source": [
    "x_test"
   ]
  },
  {
   "cell_type": "markdown",
   "metadata": {},
   "source": [
    "##### Centering and rescaling"
   ]
  },
  {
   "cell_type": "code",
   "execution_count": 200,
   "metadata": {},
   "outputs": [
    {
     "name": "stderr",
     "output_type": "stream",
     "text": [
      "C:\\Users\\Predator\\anaconda3\\envs\\tf_env\\lib\\site-packages\\ipykernel_launcher.py:15: TqdmDeprecationWarning: This function will be removed in tqdm==5.0.0\n",
      "Please use `tqdm.notebook.tqdm` instead of `tqdm.tqdm_notebook`\n",
      "  from ipykernel import kernelapp as app\n"
     ]
    },
    {
     "data": {
      "application/vnd.jupyter.widget-view+json": {
       "model_id": "a8c6409156114450923914e911cae07b",
       "version_major": 2,
       "version_minor": 0
      },
      "text/plain": [
       "HBox(children=(FloatProgress(value=0.0, max=910.0), HTML(value='')))"
      ]
     },
     "metadata": {},
     "output_type": "display_data"
    },
    {
     "name": "stdout",
     "output_type": "stream",
     "text": [
      "\n"
     ]
    }
   ],
   "source": [
    "def centering_image(img):\n",
    "    size = [256,256]\n",
    "    \n",
    "    img_size = img.shape[:2]\n",
    "    \n",
    "    # centering\n",
    "    row = (size[1] - img_size[0]) // 2\n",
    "    col = (size[0] - img_size[1]) // 2\n",
    "    resized = np.zeros(list(size) + [img.shape[2]], dtype=np.uint8)\n",
    "    resized[row:(row + img.shape[0]), col:(col + img.shape[1])] = img\n",
    "\n",
    "    return resized\n",
    "\n",
    "test_d = []\n",
    "with tqdm(total=len(test_data)) as pbar:\n",
    "    for i, file_path in enumerate(test_data.filename.values):\n",
    "        #read image\n",
    "        img = cv2.imread(\"D:/FinalDphi/animal_dataset_intermediate/test/\"+file_path)\n",
    "        img = cv2.cvtColor(img, cv2.COLOR_BGR2RGB)\n",
    "        \n",
    "#resize\n",
    "        if(img.shape[0] > img.shape[1]):\n",
    "            tile_size = (int(img.shape[1]*256/img.shape[0]),256)\n",
    "        else:\n",
    "            tile_size = (256, int(img.shape[0]*256/img.shape[1]))\n",
    "\n",
    "        #centering\n",
    "        img = centering_image(cv2.resize(img, dsize=tile_size))\n",
    "\n",
    "        #out put 224*224px \n",
    "        img = img[16:240, 16:240]\n",
    "        test_d.append(img)\n",
    "        pbar.update(1)\n",
    "\n",
    "test_d = np.array(test_d)   "
   ]
  },
  {
   "cell_type": "code",
   "execution_count": 205,
   "metadata": {},
   "outputs": [],
   "source": [
    "data_n = len(x_test)\n",
    "testing=[]\n",
    "for i in range(data_n):\n",
    "    testing.append(test_d[i])\n",
    "    \n",
    "testing = np.array(testing) \n",
    "testing = testing.astype('float32')\n",
    "testing /= 255"
   ]
  },
  {
   "cell_type": "code",
   "execution_count": null,
   "metadata": {},
   "outputs": [],
   "source": []
  },
  {
   "cell_type": "code",
   "execution_count": 206,
   "metadata": {},
   "outputs": [],
   "source": [
    "preds = model.predict(testing)\n",
    "#if using softmax activation on output layer\n",
    "predicted_labels  = np.argmax(preds,axis=1)"
   ]
  },
  {
   "cell_type": "code",
   "execution_count": 207,
   "metadata": {},
   "outputs": [
    {
     "data": {
      "text/plain": [
       "array([1, 1, 1, 1, 1, 1, 0, 3, 3, 3, 3, 0, 0, 0, 3, 1, 0, 0, 3, 1, 0, 0,\n",
       "       3, 3, 3, 3, 0, 1, 1, 1, 3, 3, 3, 3, 3, 0, 3, 1, 3, 1, 1, 3, 1, 3,\n",
       "       3, 0, 0, 0, 0, 0, 0, 1, 1, 1, 3, 1, 3, 0, 1, 0, 3, 1, 1, 1, 3, 1,\n",
       "       3, 1, 1, 3, 0, 1, 3, 3, 3, 1, 0, 0, 1, 1, 1, 1, 1, 0, 1, 1, 3, 0,\n",
       "       0, 0, 1, 3, 0, 0, 0, 3, 1, 0, 3, 1, 0, 3, 0, 0, 0, 0, 0, 0, 0, 0,\n",
       "       0, 3, 0, 1, 0, 3, 3, 0, 0, 3, 0, 1, 3, 0, 0, 0, 0, 3, 0, 1, 4, 3,\n",
       "       0, 3, 3, 3, 3, 3, 3, 3, 0, 3, 3, 3, 3, 3, 1, 1, 0, 0, 0, 3, 1, 1,\n",
       "       0, 3, 1, 0, 3, 0, 0, 1, 0, 0, 0, 0, 0, 1, 3, 0, 0, 0, 3, 1, 0, 1,\n",
       "       3, 1, 1, 3, 1, 3, 1, 3, 0, 0, 0, 0, 0, 0, 0, 0, 0, 0, 3, 3, 0, 3,\n",
       "       3, 2, 0, 0, 3, 0, 4, 0, 1, 1, 1, 0, 1, 1, 1, 3, 1, 1, 1, 1, 1, 0,\n",
       "       3, 0, 1, 3, 1, 1, 0, 0, 3, 3, 0, 0, 0, 3, 0, 1, 1, 3, 0, 1, 1, 1,\n",
       "       0, 0, 0, 3, 1, 1, 1, 1, 1, 1, 0, 1, 0, 3, 1, 1, 0, 1, 3, 0, 3, 0,\n",
       "       3, 3, 1, 1, 0, 1, 1, 1, 3, 1, 1, 1, 0, 1, 1, 1, 1, 1, 1, 0, 1, 3,\n",
       "       3, 1, 0, 1, 1, 1, 1, 1, 1, 1, 1, 1, 3, 1, 0, 0, 0, 1, 3, 3, 0, 0,\n",
       "       0, 0, 0, 1, 3, 3, 0, 0, 1, 1, 1, 0, 0, 1, 1, 1, 3, 1, 0, 3, 0, 3,\n",
       "       0, 0, 0, 0, 3, 3, 3, 3, 1, 0, 4, 3, 0, 3, 3, 1, 3, 0, 0, 0, 1, 0,\n",
       "       0, 0, 0, 0, 0, 0, 3, 0, 0, 0, 3, 3, 4, 1, 1, 1, 1, 1, 1, 1, 0, 1,\n",
       "       1, 1, 1, 1, 1, 0, 1, 3, 3, 0, 3, 3, 1, 1, 1, 1, 1, 1, 0, 0, 1, 1,\n",
       "       3, 3, 3, 1, 1, 4, 0, 3, 0, 1, 1, 1, 0, 1, 1, 1, 1, 1, 1, 1, 1, 1,\n",
       "       1, 1, 1, 3, 1, 1, 3, 3, 3, 3, 3, 1, 1, 0, 0, 0, 0, 0, 1, 1, 1, 1,\n",
       "       1, 1, 3, 1, 3, 1, 1, 1, 1, 1, 3, 3, 3, 1, 1, 1, 1, 1, 1, 1, 1, 3,\n",
       "       3, 3, 3, 3, 3, 1, 1, 1, 1, 1, 1, 1, 1, 3, 3, 3, 1, 0, 0, 1, 1, 1,\n",
       "       1, 1, 1, 3, 1, 3, 1, 1, 1, 1, 3, 1, 3, 0, 3, 3, 1, 1, 1, 1, 3, 1,\n",
       "       1, 1, 1, 1, 3, 3, 3, 3, 3, 3, 3, 3, 3, 3, 3, 3, 3, 3, 3, 3, 3, 3,\n",
       "       3, 3, 3, 3, 3, 3, 3, 3, 3, 3, 2, 2, 4, 2, 2, 2, 2, 4, 2, 2, 2, 4,\n",
       "       4, 4, 4, 4, 4, 4, 2, 4, 2, 2, 4, 2, 2, 4, 4, 2, 2, 4, 4, 4, 4, 4,\n",
       "       4, 4, 4, 4, 2, 2, 4, 2, 2, 4, 4, 4, 0, 2, 2, 4, 2, 2, 4, 2, 4, 4,\n",
       "       4, 2, 2, 2, 4, 2, 4, 3, 4, 2, 1, 2, 4, 4, 4, 4, 4, 4, 4, 2, 4, 2,\n",
       "       4, 4, 4, 4, 1, 2, 4, 2, 4, 2, 4, 2, 4, 4, 4, 4, 2, 3, 2, 4, 2, 2,\n",
       "       1, 2, 4, 4, 4, 4, 4, 2, 2, 4, 2, 4, 2, 4, 2, 2, 4, 3, 2, 2, 4, 2,\n",
       "       0, 2, 2, 2, 2, 4, 2, 4, 2, 4, 4, 4, 4, 4, 2, 2, 2, 4, 4, 2, 4, 4,\n",
       "       2, 2, 4, 4, 0, 0, 2, 2, 0, 2, 2, 2, 4, 2, 4, 2, 4, 2, 4, 2, 2, 2,\n",
       "       4, 4, 2, 2, 4, 2, 4, 2, 4, 4, 4, 2, 4, 2, 4, 4, 2, 4, 4, 2, 4, 2,\n",
       "       2, 2, 4, 2, 4, 4, 4, 2, 2, 3, 1, 2, 4, 4, 2, 4, 4, 2, 2, 4, 4, 2,\n",
       "       2, 2, 2, 4, 2, 2, 4, 2, 2, 2, 4, 4, 2, 2, 4, 4, 4, 4, 4, 2, 4, 4,\n",
       "       2, 2, 4, 4, 4, 2, 2, 2, 4, 4, 0, 4, 2, 2, 2, 2, 2, 2, 2, 4, 4, 4,\n",
       "       2, 2, 4, 2, 2, 4, 4, 4, 2, 0, 2, 2, 2, 4, 4, 2, 2, 2, 2, 2, 4, 4,\n",
       "       2, 0, 4, 2, 4, 2, 4, 2, 4, 2, 2, 2, 2, 2, 2, 4, 4, 2, 2, 4, 4, 2,\n",
       "       2, 3, 4, 4, 2, 4, 2, 4, 2, 4, 2, 4, 2, 2, 2, 2, 2, 4, 2, 4, 4, 2,\n",
       "       4, 1, 4, 2, 4, 2, 2, 2, 2, 2, 4, 4, 2, 4, 2, 0, 4, 4, 4, 2, 4, 3,\n",
       "       4, 4, 2, 4, 2, 4, 4, 2, 2, 2, 4, 2, 2, 4, 4, 2, 2, 2, 2, 2, 2, 4,\n",
       "       2, 4, 4, 4, 4, 4, 4, 4], dtype=int64)"
      ]
     },
     "execution_count": 207,
     "metadata": {},
     "output_type": "execute_result"
    }
   ],
   "source": [
    "predicted_labels"
   ]
  },
  {
   "cell_type": "markdown",
   "metadata": {},
   "source": [
    "#### Converting values into Labels and making the csv file for predictions"
   ]
  },
  {
   "cell_type": "code",
   "execution_count": 208,
   "metadata": {},
   "outputs": [],
   "source": [
    "cl2=['elefante', 'farfalla','mucca','pecora','scoiattolo']\n",
    "predicted_values=[cl2[i] for i in predicted_labels]"
   ]
  },
  {
   "cell_type": "code",
   "execution_count": 209,
   "metadata": {},
   "outputs": [],
   "source": [
    "res = pd.DataFrame(predicted_values) #preditcions are nothing but the final predictions of your model on input features of your new unseen test data\n",
    "res.columns = [\"prediction\"]\n",
    "res.to_csv(\"prediction_Assignment2_102.csv\") "
   ]
  }
 ],
 "metadata": {
  "kernelspec": {
   "display_name": "tf_env",
   "language": "python",
   "name": "tf_env"
  },
  "language_info": {
   "codemirror_mode": {
    "name": "ipython",
    "version": 3
   },
   "file_extension": ".py",
   "mimetype": "text/x-python",
   "name": "python",
   "nbconvert_exporter": "python",
   "pygments_lexer": "ipython3",
   "version": "3.7.7"
  }
 },
 "nbformat": 4,
 "nbformat_minor": 4
}
